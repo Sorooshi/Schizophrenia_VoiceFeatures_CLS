{
  "nbformat": 4,
  "nbformat_minor": 0,
  "metadata": {
    "colab": {
      "provenance": [],
      "machine_shape": "hm",
      "authorship_tag": "ABX9TyMaTkSod3vPEH0YjO/6ZsgA",
      "include_colab_link": true
    },
    "kernelspec": {
      "name": "python3",
      "display_name": "Python 3"
    },
    "language_info": {
      "name": "python"
    },
    "accelerator": "GPU",
    "gpuClass": "standard"
  },
  "cells": [
    {
      "cell_type": "markdown",
      "metadata": {
        "id": "view-in-github",
        "colab_type": "text"
      },
      "source": [
        "<a href=\"https://colab.research.google.com/github/Whoami666/HSE_Lab/blob/main/clean_models/schiz_models_random_forest.ipynb\" target=\"_parent\"><img src=\"https://colab.research.google.com/assets/colab-badge.svg\" alt=\"Open In Colab\"/></a>"
      ]
    },
    {
      "cell_type": "code",
      "source": [
        "from google.colab import drive\n",
        "drive.mount('/content/drive/')"
      ],
      "metadata": {
        "colab": {
          "base_uri": "https://localhost:8080/"
        },
        "id": "Hm4Gv0JiOFmk",
        "outputId": "5d8a2e89-ff4d-44aa-fb74-fdf07a03839a"
      },
      "execution_count": 4,
      "outputs": [
        {
          "output_type": "stream",
          "name": "stdout",
          "text": [
            "Mounted at /content/drive/\n"
          ]
        }
      ]
    },
    {
      "cell_type": "code",
      "source": [
        "%cd drive\n",
        "%cd MyDrive\n",
        "%cd shiz"
      ],
      "metadata": {
        "colab": {
          "base_uri": "https://localhost:8080/"
        },
        "id": "P6U-kZ7fOWnJ",
        "outputId": "9169e5a4-c099-4ee1-e742-6327a34af490"
      },
      "execution_count": 5,
      "outputs": [
        {
          "output_type": "stream",
          "name": "stdout",
          "text": [
            "/content/drive\n",
            "/content/drive/MyDrive\n",
            "/content/drive/MyDrive/shiz\n"
          ]
        }
      ]
    },
    {
      "cell_type": "code",
      "source": [
        "import warnings\n",
        "import pandas as pd\n",
        "import numpy as np\n",
        "import matplotlib.pyplot as plt"
      ],
      "metadata": {
        "id": "lF-8DAAdfu_V"
      },
      "execution_count": 6,
      "outputs": []
    },
    {
      "cell_type": "code",
      "source": [
        "!pip install scikit-optimize"
      ],
      "metadata": {
        "id": "eMO3X_vOfyP0",
        "colab": {
          "base_uri": "https://localhost:8080/"
        },
        "outputId": "9b427c39-4caa-475a-b499-4a4af089a2c0"
      },
      "execution_count": 7,
      "outputs": [
        {
          "output_type": "stream",
          "name": "stdout",
          "text": [
            "Looking in indexes: https://pypi.org/simple, https://us-python.pkg.dev/colab-wheels/public/simple/\n",
            "Collecting scikit-optimize\n",
            "  Downloading scikit_optimize-0.9.0-py2.py3-none-any.whl (100 kB)\n",
            "\u001b[2K     \u001b[90m━━━━━━━━━━━━━━━━━━━━━━━━━━━━━━━━━━━━━━━\u001b[0m \u001b[32m100.3/100.3 KB\u001b[0m \u001b[31m6.7 MB/s\u001b[0m eta \u001b[36m0:00:00\u001b[0m\n",
            "\u001b[?25hCollecting pyaml>=16.9\n",
            "  Downloading pyaml-21.10.1-py2.py3-none-any.whl (24 kB)\n",
            "Requirement already satisfied: scikit-learn>=0.20.0 in /usr/local/lib/python3.9/dist-packages (from scikit-optimize) (1.2.2)\n",
            "Requirement already satisfied: numpy>=1.13.3 in /usr/local/lib/python3.9/dist-packages (from scikit-optimize) (1.22.4)\n",
            "Requirement already satisfied: joblib>=0.11 in /usr/local/lib/python3.9/dist-packages (from scikit-optimize) (1.1.1)\n",
            "Requirement already satisfied: scipy>=0.19.1 in /usr/local/lib/python3.9/dist-packages (from scikit-optimize) (1.10.1)\n",
            "Requirement already satisfied: PyYAML in /usr/local/lib/python3.9/dist-packages (from pyaml>=16.9->scikit-optimize) (6.0)\n",
            "Requirement already satisfied: threadpoolctl>=2.0.0 in /usr/local/lib/python3.9/dist-packages (from scikit-learn>=0.20.0->scikit-optimize) (3.1.0)\n",
            "Installing collected packages: pyaml, scikit-optimize\n",
            "Successfully installed pyaml-21.10.1 scikit-optimize-0.9.0\n"
          ]
        }
      ]
    },
    {
      "cell_type": "code",
      "source": [
        "from sklearn.model_selection import train_test_split\n",
        "\n",
        "from sklearn.metrics import classification_report\n",
        "from sklearn.metrics import accuracy_score\n",
        "from sklearn.model_selection import cross_val_score\n",
        "from sklearn.model_selection import cross_validate\n",
        "\n",
        "from sklearn.metrics import recall_score\n",
        "from sklearn.metrics import roc_auc_score\n",
        "from sklearn.metrics import f1_score\n",
        "\n",
        "from skopt import BayesSearchCV\n",
        "from sklearn.datasets import load_digits\n",
        "from sklearn.ensemble import RandomForestClassifier\n",
        "\n",
        "from sklearn.metrics import make_scorer\n",
        "from sklearn.model_selection import KFold\n",
        "\n",
        "from sklearn.metrics import roc_curve\n",
        "from sklearn.metrics import roc_auc_score\n",
        "from matplotlib import pyplot"
      ],
      "metadata": {
        "id": "6030Ov49etBu"
      },
      "execution_count": 8,
      "outputs": []
    },
    {
      "cell_type": "code",
      "source": [
        "def calculate_scores(model, givenx, giveny, xtest):\n",
        "  kf = KFold(n_splits=10)\n",
        "  crossval_f1 = cross_val_score(model, givenx, giveny, scoring='f1_macro', cv = kf)\n",
        "  mean_score = crossval_f1.mean()\n",
        "  std_score = crossval_f1.std()\n",
        "  print('f1_macro', mean_score, '±', std_score)\n",
        "\n",
        "  crossval_accuracy = cross_val_score(model, givenx, giveny, scoring='accuracy', cv = kf)\n",
        "  mean_score = crossval_accuracy.mean()\n",
        "  std_score = crossval_accuracy.std()\n",
        "  print('accuracy', mean_score, '±', std_score)\n",
        "\n",
        "  crossval_recall = cross_val_score(model, givenx, giveny, scoring='recall_macro', cv = kf)\n",
        "  mean_score = crossval_recall.mean()\n",
        "  std_score = crossval_recall.std()\n",
        "  print('recall', mean_score, '±', std_score)\n",
        "\n",
        "  if giveny.nunique() == 2:\n",
        "    y_proba = model.predict_proba(xtest)\n",
        "    print('roc_auc_score', roc_auc_score(y_test, y_proba[:,1]))"
      ],
      "metadata": {
        "id": "5jxqMB7-va3-"
      },
      "execution_count": 21,
      "outputs": []
    },
    {
      "cell_type": "code",
      "source": [
        "def random_forest_class(xtrain, ytrain, xtest, ytest, xgiven, ygiven):\n",
        "  warnings.filterwarnings('ignore')\n",
        "\n",
        "  opt = BayesSearchCV(\n",
        "      RandomForestClassifier(),\n",
        "      {\n",
        "          'n_estimators':  (100, 1000),\n",
        "          'max_depth': (10, 100),\n",
        "          'min_samples_split': np.linspace(0.0001, 1, 10),\n",
        "          'min_samples_leaf': np.linspace(0.0001, 0.5, 10),\n",
        "      },\n",
        "      scoring='f1_macro',\n",
        "      n_iter=32,\n",
        "      cv=3\n",
        "  )\n",
        "\n",
        "  opt.fit(xtrain, ytrain)\n",
        "\n",
        "  print(\"val. score: %s\" % opt.best_score_)\n",
        "  print(\"test score: %s\" % opt.score(xtest, ytest))\n",
        "  print(\"best_params: %s\" % opt.best_params_, '\\n')\n",
        "\n",
        "  rfc = RandomForestClassifier(n_estimators = opt.best_params_['n_estimators'], \n",
        "                             max_depth = opt.best_params_['max_depth'],\n",
        "                             min_samples_split = opt.best_params_['min_samples_split'],\n",
        "                             min_samples_leaf = opt.best_params_['min_samples_leaf'])\n",
        "  rfc.fit(xtrain, ytrain)\n",
        "  y_pred = rfc.predict(xtest)\n",
        "  print(classification_report(ytest,y_pred), '\\n')\n",
        "\n",
        "  calculate_scores(rfc, xgiven, ygiven, xtest)\n",
        "\n",
        "  sorted_idx = rfc.feature_importances_.argsort()\n",
        "  feature_names = [f\"feature {i}\" for i in range(X.shape[1])]\n",
        "  plt.barh(X.columns[sorted_idx], rfc.feature_importances_[sorted_idx])\n",
        "  plt.xlabel(\"Random Forest Feature Importance\")"
      ],
      "metadata": {
        "id": "65fmpwsLwkIw"
      },
      "execution_count": 22,
      "outputs": []
    },
    {
      "cell_type": "code",
      "source": [
        "df = pd.read_excel('df_standard_cleaned_21feb.xlsx') \n",
        "df1d = pd.read_excel('df_standard_only1dfeatures.xlsx')\n",
        "\n",
        "df = df.set_index('ID')\n",
        "df1d = df1d.set_index('ID')\n",
        "df.head(1)"
      ],
      "metadata": {
        "colab": {
          "base_uri": "https://localhost:8080/",
          "height": 223
        },
        "id": "p_fxmc9SeuDD",
        "outputId": "b34ea97f-e6bc-4f17-9d8d-94e28b7c74e8"
      },
      "execution_count": 11,
      "outputs": [
        {
          "output_type": "execute_result",
          "data": {
            "text/plain": [
              "        sex  tds  chroma_cens_avg  chroma_cens_std  chroma_cqt_avg  \\\n",
              "ID                                                                   \n",
              "PD-003    1    0         0.685706         0.428088        0.425039   \n",
              "\n",
              "        chroma_cqt_std  chroma_stft_avg  chroma_stft_std  melspectrogram_avg  \\\n",
              "ID                                                                             \n",
              "PD-003        0.296394         0.339246         0.434412            0.327867   \n",
              "\n",
              "        melspectrogram_std  ...  spectral_flatness_std  spectral_rolloff_avg  \\\n",
              "ID                          ...                                                \n",
              "PD-003            0.348849  ...                0.31499              0.397736   \n",
              "\n",
              "        spectral_rolloff_std  tempogram_avg  tempogram_std  tonnetz_avg  \\\n",
              "ID                                                                        \n",
              "PD-003              0.254215       0.747885       0.719312     0.691479   \n",
              "\n",
              "        tonnetz_std  zero_crossing_rate_avg  zero_crossing_rate_std  \\\n",
              "ID                                                                    \n",
              "PD-003     0.329593                0.197304                0.281692   \n",
              "\n",
              "        tds_binary  \n",
              "ID                  \n",
              "PD-003           0  \n",
              "\n",
              "[1 rows x 31 columns]"
            ],
            "text/html": [
              "\n",
              "  <div id=\"df-217926f0-77a1-4126-949e-3f543b2673c1\">\n",
              "    <div class=\"colab-df-container\">\n",
              "      <div>\n",
              "<style scoped>\n",
              "    .dataframe tbody tr th:only-of-type {\n",
              "        vertical-align: middle;\n",
              "    }\n",
              "\n",
              "    .dataframe tbody tr th {\n",
              "        vertical-align: top;\n",
              "    }\n",
              "\n",
              "    .dataframe thead th {\n",
              "        text-align: right;\n",
              "    }\n",
              "</style>\n",
              "<table border=\"1\" class=\"dataframe\">\n",
              "  <thead>\n",
              "    <tr style=\"text-align: right;\">\n",
              "      <th></th>\n",
              "      <th>sex</th>\n",
              "      <th>tds</th>\n",
              "      <th>chroma_cens_avg</th>\n",
              "      <th>chroma_cens_std</th>\n",
              "      <th>chroma_cqt_avg</th>\n",
              "      <th>chroma_cqt_std</th>\n",
              "      <th>chroma_stft_avg</th>\n",
              "      <th>chroma_stft_std</th>\n",
              "      <th>melspectrogram_avg</th>\n",
              "      <th>melspectrogram_std</th>\n",
              "      <th>...</th>\n",
              "      <th>spectral_flatness_std</th>\n",
              "      <th>spectral_rolloff_avg</th>\n",
              "      <th>spectral_rolloff_std</th>\n",
              "      <th>tempogram_avg</th>\n",
              "      <th>tempogram_std</th>\n",
              "      <th>tonnetz_avg</th>\n",
              "      <th>tonnetz_std</th>\n",
              "      <th>zero_crossing_rate_avg</th>\n",
              "      <th>zero_crossing_rate_std</th>\n",
              "      <th>tds_binary</th>\n",
              "    </tr>\n",
              "    <tr>\n",
              "      <th>ID</th>\n",
              "      <th></th>\n",
              "      <th></th>\n",
              "      <th></th>\n",
              "      <th></th>\n",
              "      <th></th>\n",
              "      <th></th>\n",
              "      <th></th>\n",
              "      <th></th>\n",
              "      <th></th>\n",
              "      <th></th>\n",
              "      <th></th>\n",
              "      <th></th>\n",
              "      <th></th>\n",
              "      <th></th>\n",
              "      <th></th>\n",
              "      <th></th>\n",
              "      <th></th>\n",
              "      <th></th>\n",
              "      <th></th>\n",
              "      <th></th>\n",
              "      <th></th>\n",
              "    </tr>\n",
              "  </thead>\n",
              "  <tbody>\n",
              "    <tr>\n",
              "      <th>PD-003</th>\n",
              "      <td>1</td>\n",
              "      <td>0</td>\n",
              "      <td>0.685706</td>\n",
              "      <td>0.428088</td>\n",
              "      <td>0.425039</td>\n",
              "      <td>0.296394</td>\n",
              "      <td>0.339246</td>\n",
              "      <td>0.434412</td>\n",
              "      <td>0.327867</td>\n",
              "      <td>0.348849</td>\n",
              "      <td>...</td>\n",
              "      <td>0.31499</td>\n",
              "      <td>0.397736</td>\n",
              "      <td>0.254215</td>\n",
              "      <td>0.747885</td>\n",
              "      <td>0.719312</td>\n",
              "      <td>0.691479</td>\n",
              "      <td>0.329593</td>\n",
              "      <td>0.197304</td>\n",
              "      <td>0.281692</td>\n",
              "      <td>0</td>\n",
              "    </tr>\n",
              "  </tbody>\n",
              "</table>\n",
              "<p>1 rows × 31 columns</p>\n",
              "</div>\n",
              "      <button class=\"colab-df-convert\" onclick=\"convertToInteractive('df-217926f0-77a1-4126-949e-3f543b2673c1')\"\n",
              "              title=\"Convert this dataframe to an interactive table.\"\n",
              "              style=\"display:none;\">\n",
              "        \n",
              "  <svg xmlns=\"http://www.w3.org/2000/svg\" height=\"24px\"viewBox=\"0 0 24 24\"\n",
              "       width=\"24px\">\n",
              "    <path d=\"M0 0h24v24H0V0z\" fill=\"none\"/>\n",
              "    <path d=\"M18.56 5.44l.94 2.06.94-2.06 2.06-.94-2.06-.94-.94-2.06-.94 2.06-2.06.94zm-11 1L8.5 8.5l.94-2.06 2.06-.94-2.06-.94L8.5 2.5l-.94 2.06-2.06.94zm10 10l.94 2.06.94-2.06 2.06-.94-2.06-.94-.94-2.06-.94 2.06-2.06.94z\"/><path d=\"M17.41 7.96l-1.37-1.37c-.4-.4-.92-.59-1.43-.59-.52 0-1.04.2-1.43.59L10.3 9.45l-7.72 7.72c-.78.78-.78 2.05 0 2.83L4 21.41c.39.39.9.59 1.41.59.51 0 1.02-.2 1.41-.59l7.78-7.78 2.81-2.81c.8-.78.8-2.07 0-2.86zM5.41 20L4 18.59l7.72-7.72 1.47 1.35L5.41 20z\"/>\n",
              "  </svg>\n",
              "      </button>\n",
              "      \n",
              "  <style>\n",
              "    .colab-df-container {\n",
              "      display:flex;\n",
              "      flex-wrap:wrap;\n",
              "      gap: 12px;\n",
              "    }\n",
              "\n",
              "    .colab-df-convert {\n",
              "      background-color: #E8F0FE;\n",
              "      border: none;\n",
              "      border-radius: 50%;\n",
              "      cursor: pointer;\n",
              "      display: none;\n",
              "      fill: #1967D2;\n",
              "      height: 32px;\n",
              "      padding: 0 0 0 0;\n",
              "      width: 32px;\n",
              "    }\n",
              "\n",
              "    .colab-df-convert:hover {\n",
              "      background-color: #E2EBFA;\n",
              "      box-shadow: 0px 1px 2px rgba(60, 64, 67, 0.3), 0px 1px 3px 1px rgba(60, 64, 67, 0.15);\n",
              "      fill: #174EA6;\n",
              "    }\n",
              "\n",
              "    [theme=dark] .colab-df-convert {\n",
              "      background-color: #3B4455;\n",
              "      fill: #D2E3FC;\n",
              "    }\n",
              "\n",
              "    [theme=dark] .colab-df-convert:hover {\n",
              "      background-color: #434B5C;\n",
              "      box-shadow: 0px 1px 3px 1px rgba(0, 0, 0, 0.15);\n",
              "      filter: drop-shadow(0px 1px 2px rgba(0, 0, 0, 0.3));\n",
              "      fill: #FFFFFF;\n",
              "    }\n",
              "  </style>\n",
              "\n",
              "      <script>\n",
              "        const buttonEl =\n",
              "          document.querySelector('#df-217926f0-77a1-4126-949e-3f543b2673c1 button.colab-df-convert');\n",
              "        buttonEl.style.display =\n",
              "          google.colab.kernel.accessAllowed ? 'block' : 'none';\n",
              "\n",
              "        async function convertToInteractive(key) {\n",
              "          const element = document.querySelector('#df-217926f0-77a1-4126-949e-3f543b2673c1');\n",
              "          const dataTable =\n",
              "            await google.colab.kernel.invokeFunction('convertToInteractive',\n",
              "                                                     [key], {});\n",
              "          if (!dataTable) return;\n",
              "\n",
              "          const docLinkHtml = 'Like what you see? Visit the ' +\n",
              "            '<a target=\"_blank\" href=https://colab.research.google.com/notebooks/data_table.ipynb>data table notebook</a>'\n",
              "            + ' to learn more about interactive tables.';\n",
              "          element.innerHTML = '';\n",
              "          dataTable['output_type'] = 'display_data';\n",
              "          await google.colab.output.renderOutput(dataTable, element);\n",
              "          const docLink = document.createElement('div');\n",
              "          docLink.innerHTML = docLinkHtml;\n",
              "          element.appendChild(docLink);\n",
              "        }\n",
              "      </script>\n",
              "    </div>\n",
              "  </div>\n",
              "  "
            ]
          },
          "metadata": {},
          "execution_count": 11
        }
      ]
    },
    {
      "cell_type": "markdown",
      "source": [
        "**Non-binary**"
      ],
      "metadata": {
        "id": "6PL8VFRje2hq"
      }
    },
    {
      "cell_type": "markdown",
      "source": [
        "All features"
      ],
      "metadata": {
        "id": "MHiNIs2mOlsE"
      }
    },
    {
      "cell_type": "code",
      "source": [
        "X = df.drop(['tds', 'tds_binary'], axis=1)\n",
        "y = df.tds # Target variable\n",
        "\n",
        "X_train, X_test, y_train, y_test = train_test_split(X, y, test_size=0.4, random_state=16)"
      ],
      "metadata": {
        "id": "-79b32xAevEr"
      },
      "execution_count": 15,
      "outputs": []
    },
    {
      "cell_type": "code",
      "source": [
        "random_forest_class(X_train, y_train, X_test, y_test, X, y)"
      ],
      "metadata": {
        "colab": {
          "base_uri": "https://localhost:8080/",
          "height": 611
        },
        "id": "N2_6BaNWxNUA",
        "outputId": "819dcb34-788b-49f6-90fe-a426eb2312ea"
      },
      "execution_count": 16,
      "outputs": [
        {
          "output_type": "stream",
          "name": "stdout",
          "text": [
            "val. score: 0.45621693121693124\n",
            "test score: 0.4505376344086021\n",
            "best_params: OrderedDict([('max_depth', 99), ('min_samples_leaf', 0.0001), ('min_samples_split', 0.0001), ('n_estimators', 119)]) \n",
            "\n",
            "              precision    recall  f1-score   support\n",
            "\n",
            "           0       0.92      0.98      0.95        60\n",
            "           1       0.50      0.33      0.40         6\n",
            "           2       0.00      0.00      0.00         2\n",
            "\n",
            "    accuracy                           0.90        68\n",
            "   macro avg       0.47      0.44      0.45        68\n",
            "weighted avg       0.86      0.90      0.87        68\n",
            " \n",
            "\n",
            "f1_macro 0.6662901356560778 ± 0.2977241998298552\n",
            "accuracy 0.8647058823529411 ± 0.19160585264590976\n",
            "recall 0.6453431372549019 ± 0.2814238644109902\n"
          ]
        },
        {
          "output_type": "display_data",
          "data": {
            "text/plain": [
              "<Figure size 432x288 with 1 Axes>"
            ],
            "image/png": "[encoded data removed]"
          },
          "metadata": {
            "needs_background": "light"
          }
        }
      ]
    },
    {
      "cell_type": "markdown",
      "source": [
        "Only 1D features"
      ],
      "metadata": {
        "id": "vmWZ9SH8Pe19"
      }
    },
    {
      "cell_type": "code",
      "source": [
        "X = df1d.drop(['tds', 'tds_binary'], axis=1)\n",
        "y = df1d.tds # Target variable\n",
        "\n",
        "X_train, X_test, y_train, y_test = train_test_split(X, y, test_size=0.4, random_state=16)"
      ],
      "metadata": {
        "id": "XyH30MbsPeco"
      },
      "execution_count": 17,
      "outputs": []
    },
    {
      "cell_type": "code",
      "source": [
        "random_forest_class(X_train, y_train, X_test, y_test, X, y)"
      ],
      "metadata": {
        "colab": {
          "base_uri": "https://localhost:8080/",
          "height": 611
        },
        "id": "WlHg6AXV0OIn",
        "outputId": "fbc37eda-9ea4-4f01-fe8d-75729333d5ea"
      },
      "execution_count": 18,
      "outputs": [
        {
          "output_type": "stream",
          "name": "stdout",
          "text": [
            "val. score: 0.48806963645673324\n",
            "test score: 0.3887407407407408\n",
            "best_params: OrderedDict([('max_depth', 10), ('min_samples_leaf', 0.0001), ('min_samples_split', 0.0001), ('n_estimators', 1000)]) \n",
            "\n",
            "              precision    recall  f1-score   support\n",
            "\n",
            "           0       0.91      1.00      0.95        60\n",
            "           1       0.50      0.17      0.25         6\n",
            "           2       0.00      0.00      0.00         2\n",
            "\n",
            "    accuracy                           0.90        68\n",
            "   macro avg       0.47      0.39      0.40        68\n",
            "weighted avg       0.85      0.90      0.86        68\n",
            " \n",
            "\n",
            "f1_macro 0.5858021123142091 ± 0.28827166863098447\n",
            "accuracy 0.8643382352941176 ± 0.1896463797471786\n",
            "recall 0.6015931372549019 ± 0.2661996026853145\n"
          ]
        },
        {
          "output_type": "display_data",
          "data": {
            "text/plain": [
              "<Figure size 432x288 with 1 Axes>"
            ],
            "image/png": "[encoded data removed]"
          },
          "metadata": {
            "needs_background": "light"
          }
        }
      ]
    },
    {
      "cell_type": "markdown",
      "source": [
        "**Binary**"
      ],
      "metadata": {
        "id": "34AHQVa1j5fG"
      }
    },
    {
      "cell_type": "markdown",
      "source": [
        "All features"
      ],
      "metadata": {
        "id": "YIzZJOBETDkB"
      }
    },
    {
      "cell_type": "code",
      "source": [
        "X = df.drop(['tds', 'tds_binary'], axis=1)\n",
        "y = df.tds_binary # Target variable\n",
        "\n",
        "X_train, X_test, y_train, y_test = train_test_split(X, y, test_size=0.2, random_state=16)"
      ],
      "metadata": {
        "id": "qfWAfkiej4d7"
      },
      "execution_count": 23,
      "outputs": []
    },
    {
      "cell_type": "code",
      "source": [
        "random_forest_class(X_train, y_train, X_test, y_test, X, y)"
      ],
      "metadata": {
        "colab": {
          "base_uri": "https://localhost:8080/",
          "height": 611
        },
        "id": "-cd32j6l0frB",
        "outputId": "f84ee1db-8bd0-4822-d1c1-f9b8c324e992"
      },
      "execution_count": 24,
      "outputs": [
        {
          "output_type": "stream",
          "name": "stdout",
          "text": [
            "val. score: 0.6750836817597531\n",
            "test score: 0.48484848484848486\n",
            "best_params: OrderedDict([('max_depth', 100), ('min_samples_leaf', 0.0001), ('min_samples_split', 0.0001), ('n_estimators', 1000)]) \n",
            "\n",
            "              precision    recall  f1-score   support\n",
            "\n",
            "           0       0.94      1.00      0.97        32\n",
            "           1       0.00      0.00      0.00         2\n",
            "\n",
            "    accuracy                           0.94        34\n",
            "   macro avg       0.47      0.50      0.48        34\n",
            "weighted avg       0.89      0.94      0.91        34\n",
            " \n",
            "\n",
            "f1_macro 0.6811091754201852 ± 0.2618207543220454\n",
            "accuracy 0.8702205882352942 ± 0.16580882352941176\n",
            "recall 0.6939443277310924 ± 0.2464676378840118\n",
            "0.65625\n"
          ]
        },
        {
          "output_type": "display_data",
          "data": {
            "text/plain": [
              "<Figure size 432x288 with 1 Axes>"
            ],
            "image/png": "[encoded data removed]"
          },
          "metadata": {
            "needs_background": "light"
          }
        }
      ]
    },
    {
      "cell_type": "markdown",
      "source": [
        "Only 1D features"
      ],
      "metadata": {
        "id": "BizRKDVTTE7R"
      }
    },
    {
      "cell_type": "code",
      "source": [
        "X = df1d.drop(['tds', 'tds_binary'], axis=1)\n",
        "y = df1d.tds_binary # Target variable\n",
        "\n",
        "X_train, X_test, y_train, y_test = train_test_split(X, y, test_size=0.4, random_state=16)"
      ],
      "metadata": {
        "id": "ZXVlMHSMS1Gz"
      },
      "execution_count": 25,
      "outputs": []
    },
    {
      "cell_type": "code",
      "source": [
        "random_forest_class(X_train, y_train, X_test, y_test, X, y)"
      ],
      "metadata": {
        "colab": {
          "base_uri": "https://localhost:8080/",
          "height": 611
        },
        "id": "9dy6XvONS_SA",
        "outputId": "914900d9-11aa-4b5a-cbd2-691a9e443214"
      },
      "execution_count": 26,
      "outputs": [
        {
          "output_type": "stream",
          "name": "stdout",
          "text": [
            "val. score: 0.5955965181771634\n",
            "test score: 0.7258064516129032\n",
            "best_params: OrderedDict([('max_depth', 94), ('min_samples_leaf', 0.0001), ('min_samples_split', 0.2223), ('n_estimators', 413)]) \n",
            "\n",
            "              precision    recall  f1-score   support\n",
            "\n",
            "           0       0.92      0.98      0.95        60\n",
            "           1       0.75      0.38      0.50         8\n",
            "\n",
            "    accuracy                           0.91        68\n",
            "   macro avg       0.84      0.68      0.73        68\n",
            "weighted avg       0.90      0.91      0.90        68\n",
            " \n",
            "\n",
            "f1_macro 0.6827190239050337 ± 0.2605565192227488\n",
            "accuracy 0.8878676470588236 ± 0.1732959702239142\n",
            "recall 0.7001943277310925 ± 0.24741183768665093\n",
            "0.8479166666666667\n"
          ]
        },
        {
          "output_type": "display_data",
          "data": {
            "text/plain": [
              "<Figure size 432x288 with 1 Axes>"
            ],
            "image/png": "[encoded data removed]"
          },
          "metadata": {
            "needs_background": "light"
          }
        }
      ]
    },
    {
      "cell_type": "code",
      "source": [],
      "metadata": {
        "id": "azcXD08h0pws"
      },
      "execution_count": null,
      "outputs": []
    }
  ]
}