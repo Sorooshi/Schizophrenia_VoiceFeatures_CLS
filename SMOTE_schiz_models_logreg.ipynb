{
  "nbformat": 4,
  "nbformat_minor": 0,
  "metadata": {
    "colab": {
      "provenance": [],
      "authorship_tag": "ABX9TyNbqM8vd/Pv8vwJiuq8STo4",
      "include_colab_link": true
    },
    "kernelspec": {
      "name": "python3",
      "display_name": "Python 3"
    },
    "language_info": {
      "name": "python"
    }
  },
  "cells": [
    {
      "cell_type": "markdown",
      "metadata": {
        "id": "view-in-github",
        "colab_type": "text"
      },
      "source": [
        "<a href=\"https://colab.research.google.com/github/Whoami666/HSE_Lab/blob/main/clean_models/SMOTE_schiz_models_logreg.ipynb\" target=\"_parent\"><img src=\"https://colab.research.google.com/assets/colab-badge.svg\" alt=\"Open In Colab\"/></a>"
      ]
    },
    {
      "cell_type": "code",
      "source": [
        "from google.colab import drive\n",
        "drive.mount('/content/drive/')"
      ],
      "metadata": {
        "colab": {
          "base_uri": "https://localhost:8080/"
        },
        "id": "Jo9o4oSV3Egn",
        "outputId": "17d9d488-d9cd-4f86-de14-a0e39cbfaf91"
      },
      "execution_count": null,
      "outputs": [
        {
          "output_type": "stream",
          "name": "stdout",
          "text": [
            "Drive already mounted at /content/drive/; to attempt to forcibly remount, call drive.mount(\"/content/drive/\", force_remount=True).\n"
          ]
        }
      ]
    },
    {
      "cell_type": "code",
      "source": [
        "%cd drive\n",
        "%cd MyDrive\n",
        "%cd shiz"
      ],
      "metadata": {
        "colab": {
          "base_uri": "https://localhost:8080/"
        },
        "id": "PWrtz7Hx3KfV",
        "outputId": "01427c24-aac4-4473-f8b9-f610e0be7e7d"
      },
      "execution_count": null,
      "outputs": [
        {
          "output_type": "stream",
          "name": "stdout",
          "text": [
            "/content/drive\n",
            "/content/drive/MyDrive\n",
            "/content/drive/MyDrive/shiz\n"
          ]
        }
      ]
    },
    {
      "cell_type": "code",
      "execution_count": null,
      "metadata": {
        "id": "-Y9qFEkdAqWe"
      },
      "outputs": [],
      "source": [
        "import pandas as pd\n",
        "import numpy as np\n",
        "import matplotlib.pyplot as plt\n",
        "import warnings"
      ]
    },
    {
      "cell_type": "code",
      "source": [
        "df = pd.read_excel('df_standard_cleaned_21feb.xlsx') \n",
        "df1d = pd.read_excel('df_standard_only1dfeatures.xlsx')\n",
        "\n",
        "df = df.set_index('ID')\n",
        "df1d = df1d.set_index('ID')\n",
        "df.head(1)"
      ],
      "metadata": {
        "colab": {
          "base_uri": "https://localhost:8080/",
          "height": 223
        },
        "id": "m-_Cve02Av7t",
        "outputId": "7794bcec-e283-4eb3-e79d-bf5dd590763f"
      },
      "execution_count": null,
      "outputs": [
        {
          "output_type": "execute_result",
          "data": {
            "text/plain": [
              "        sex  tds  chroma_cens_avg  chroma_cens_std  chroma_cqt_avg  \\\n",
              "ID                                                                   \n",
              "PD-003    1    0         0.685706         0.428088        0.425039   \n",
              "\n",
              "        chroma_cqt_std  chroma_stft_avg  chroma_stft_std  melspectrogram_avg  \\\n",
              "ID                                                                             \n",
              "PD-003        0.296394         0.339246         0.434412            0.327867   \n",
              "\n",
              "        melspectrogram_std  ...  spectral_flatness_std  spectral_rolloff_avg  \\\n",
              "ID                          ...                                                \n",
              "PD-003            0.348849  ...                0.31499              0.397736   \n",
              "\n",
              "        spectral_rolloff_std  tempogram_avg  tempogram_std  tonnetz_avg  \\\n",
              "ID                                                                        \n",
              "PD-003              0.254215       0.747885       0.719312     0.691479   \n",
              "\n",
              "        tonnetz_std  zero_crossing_rate_avg  zero_crossing_rate_std  \\\n",
              "ID                                                                    \n",
              "PD-003     0.329593                0.197304                0.281692   \n",
              "\n",
              "        tds_binary  \n",
              "ID                  \n",
              "PD-003           0  \n",
              "\n",
              "[1 rows x 31 columns]"
            ],
            "text/html": [
              "\n",
              "  <div id=\"df-c1721d2d-4f45-4de6-b1ce-52e0916ba21f\">\n",
              "    <div class=\"colab-df-container\">\n",
              "      <div>\n",
              "<style scoped>\n",
              "    .dataframe tbody tr th:only-of-type {\n",
              "        vertical-align: middle;\n",
              "    }\n",
              "\n",
              "    .dataframe tbody tr th {\n",
              "        vertical-align: top;\n",
              "    }\n",
              "\n",
              "    .dataframe thead th {\n",
              "        text-align: right;\n",
              "    }\n",
              "</style>\n",
              "<table border=\"1\" class=\"dataframe\">\n",
              "  <thead>\n",
              "    <tr style=\"text-align: right;\">\n",
              "      <th></th>\n",
              "      <th>sex</th>\n",
              "      <th>tds</th>\n",
              "      <th>chroma_cens_avg</th>\n",
              "      <th>chroma_cens_std</th>\n",
              "      <th>chroma_cqt_avg</th>\n",
              "      <th>chroma_cqt_std</th>\n",
              "      <th>chroma_stft_avg</th>\n",
              "      <th>chroma_stft_std</th>\n",
              "      <th>melspectrogram_avg</th>\n",
              "      <th>melspectrogram_std</th>\n",
              "      <th>...</th>\n",
              "      <th>spectral_flatness_std</th>\n",
              "      <th>spectral_rolloff_avg</th>\n",
              "      <th>spectral_rolloff_std</th>\n",
              "      <th>tempogram_avg</th>\n",
              "      <th>tempogram_std</th>\n",
              "      <th>tonnetz_avg</th>\n",
              "      <th>tonnetz_std</th>\n",
              "      <th>zero_crossing_rate_avg</th>\n",
              "      <th>zero_crossing_rate_std</th>\n",
              "      <th>tds_binary</th>\n",
              "    </tr>\n",
              "    <tr>\n",
              "      <th>ID</th>\n",
              "      <th></th>\n",
              "      <th></th>\n",
              "      <th></th>\n",
              "      <th></th>\n",
              "      <th></th>\n",
              "      <th></th>\n",
              "      <th></th>\n",
              "      <th></th>\n",
              "      <th></th>\n",
              "      <th></th>\n",
              "      <th></th>\n",
              "      <th></th>\n",
              "      <th></th>\n",
              "      <th></th>\n",
              "      <th></th>\n",
              "      <th></th>\n",
              "      <th></th>\n",
              "      <th></th>\n",
              "      <th></th>\n",
              "      <th></th>\n",
              "      <th></th>\n",
              "    </tr>\n",
              "  </thead>\n",
              "  <tbody>\n",
              "    <tr>\n",
              "      <th>PD-003</th>\n",
              "      <td>1</td>\n",
              "      <td>0</td>\n",
              "      <td>0.685706</td>\n",
              "      <td>0.428088</td>\n",
              "      <td>0.425039</td>\n",
              "      <td>0.296394</td>\n",
              "      <td>0.339246</td>\n",
              "      <td>0.434412</td>\n",
              "      <td>0.327867</td>\n",
              "      <td>0.348849</td>\n",
              "      <td>...</td>\n",
              "      <td>0.31499</td>\n",
              "      <td>0.397736</td>\n",
              "      <td>0.254215</td>\n",
              "      <td>0.747885</td>\n",
              "      <td>0.719312</td>\n",
              "      <td>0.691479</td>\n",
              "      <td>0.329593</td>\n",
              "      <td>0.197304</td>\n",
              "      <td>0.281692</td>\n",
              "      <td>0</td>\n",
              "    </tr>\n",
              "  </tbody>\n",
              "</table>\n",
              "<p>1 rows × 31 columns</p>\n",
              "</div>\n",
              "      <button class=\"colab-df-convert\" onclick=\"convertToInteractive('df-c1721d2d-4f45-4de6-b1ce-52e0916ba21f')\"\n",
              "              title=\"Convert this dataframe to an interactive table.\"\n",
              "              style=\"display:none;\">\n",
              "        \n",
              "  <svg xmlns=\"http://www.w3.org/2000/svg\" height=\"24px\"viewBox=\"0 0 24 24\"\n",
              "       width=\"24px\">\n",
              "    <path d=\"M0 0h24v24H0V0z\" fill=\"none\"/>\n",
              "    <path d=\"M18.56 5.44l.94 2.06.94-2.06 2.06-.94-2.06-.94-.94-2.06-.94 2.06-2.06.94zm-11 1L8.5 8.5l.94-2.06 2.06-.94-2.06-.94L8.5 2.5l-.94 2.06-2.06.94zm10 10l.94 2.06.94-2.06 2.06-.94-2.06-.94-.94-2.06-.94 2.06-2.06.94z\"/><path d=\"M17.41 7.96l-1.37-1.37c-.4-.4-.92-.59-1.43-.59-.52 0-1.04.2-1.43.59L10.3 9.45l-7.72 7.72c-.78.78-.78 2.05 0 2.83L4 21.41c.39.39.9.59 1.41.59.51 0 1.02-.2 1.41-.59l7.78-7.78 2.81-2.81c.8-.78.8-2.07 0-2.86zM5.41 20L4 18.59l7.72-7.72 1.47 1.35L5.41 20z\"/>\n",
              "  </svg>\n",
              "      </button>\n",
              "      \n",
              "  <style>\n",
              "    .colab-df-container {\n",
              "      display:flex;\n",
              "      flex-wrap:wrap;\n",
              "      gap: 12px;\n",
              "    }\n",
              "\n",
              "    .colab-df-convert {\n",
              "      background-color: #E8F0FE;\n",
              "      border: none;\n",
              "      border-radius: 50%;\n",
              "      cursor: pointer;\n",
              "      display: none;\n",
              "      fill: #1967D2;\n",
              "      height: 32px;\n",
              "      padding: 0 0 0 0;\n",
              "      width: 32px;\n",
              "    }\n",
              "\n",
              "    .colab-df-convert:hover {\n",
              "      background-color: #E2EBFA;\n",
              "      box-shadow: 0px 1px 2px rgba(60, 64, 67, 0.3), 0px 1px 3px 1px rgba(60, 64, 67, 0.15);\n",
              "      fill: #174EA6;\n",
              "    }\n",
              "\n",
              "    [theme=dark] .colab-df-convert {\n",
              "      background-color: #3B4455;\n",
              "      fill: #D2E3FC;\n",
              "    }\n",
              "\n",
              "    [theme=dark] .colab-df-convert:hover {\n",
              "      background-color: #434B5C;\n",
              "      box-shadow: 0px 1px 3px 1px rgba(0, 0, 0, 0.15);\n",
              "      filter: drop-shadow(0px 1px 2px rgba(0, 0, 0, 0.3));\n",
              "      fill: #FFFFFF;\n",
              "    }\n",
              "  </style>\n",
              "\n",
              "      <script>\n",
              "        const buttonEl =\n",
              "          document.querySelector('#df-c1721d2d-4f45-4de6-b1ce-52e0916ba21f button.colab-df-convert');\n",
              "        buttonEl.style.display =\n",
              "          google.colab.kernel.accessAllowed ? 'block' : 'none';\n",
              "\n",
              "        async function convertToInteractive(key) {\n",
              "          const element = document.querySelector('#df-c1721d2d-4f45-4de6-b1ce-52e0916ba21f');\n",
              "          const dataTable =\n",
              "            await google.colab.kernel.invokeFunction('convertToInteractive',\n",
              "                                                     [key], {});\n",
              "          if (!dataTable) return;\n",
              "\n",
              "          const docLinkHtml = 'Like what you see? Visit the ' +\n",
              "            '<a target=\"_blank\" href=https://colab.research.google.com/notebooks/data_table.ipynb>data table notebook</a>'\n",
              "            + ' to learn more about interactive tables.';\n",
              "          element.innerHTML = '';\n",
              "          dataTable['output_type'] = 'display_data';\n",
              "          await google.colab.output.renderOutput(dataTable, element);\n",
              "          const docLink = document.createElement('div');\n",
              "          docLink.innerHTML = docLinkHtml;\n",
              "          element.appendChild(docLink);\n",
              "        }\n",
              "      </script>\n",
              "    </div>\n",
              "  </div>\n",
              "  "
            ]
          },
          "metadata": {},
          "execution_count": 5
        }
      ]
    },
    {
      "cell_type": "markdown",
      "source": [
        "**Models**"
      ],
      "metadata": {
        "id": "dlja-6F_B-E7"
      }
    },
    {
      "cell_type": "code",
      "source": [
        "from sklearn.metrics import classification_report\n",
        "from sklearn.metrics import accuracy_score\n",
        "from sklearn.metrics import recall_score\n",
        "from sklearn.metrics import roc_auc_score\n",
        "\n",
        "from sklearn.model_selection import cross_val_score\n",
        "from sklearn.model_selection import cross_validate\n",
        "from sklearn.model_selection import KFold\n",
        "from sklearn.model_selection import train_test_split\n",
        "\n",
        "from sklearn.inspection import permutation_importance\n",
        "\n",
        "from sklearn.linear_model import LogisticRegression\n",
        "from sklearn.model_selection import GridSearchCV"
      ],
      "metadata": {
        "id": "MltAiJ4jCAJQ"
      },
      "execution_count": null,
      "outputs": []
    },
    {
      "cell_type": "code",
      "source": [
        "from imblearn.over_sampling import SMOTE"
      ],
      "metadata": {
        "id": "fVPmQ6Yz464p"
      },
      "execution_count": null,
      "outputs": []
    },
    {
      "cell_type": "code",
      "source": [
        "def calculate_scores(model, givenx, giveny, xtest):\n",
        "  kf = KFold(n_splits=10)\n",
        "  crossval_f1 = cross_val_score(model, givenx, giveny, scoring='f1_macro', cv = kf, verbose=False)\n",
        "  mean_score = crossval_f1.mean()\n",
        "  std_score = crossval_f1.std()\n",
        "  print('f1_macro', mean_score, '±', std_score)\n",
        "\n",
        "  crossval_accuracy = cross_val_score(model, givenx, giveny, scoring='accuracy', cv = kf, verbose=False)\n",
        "  mean_score = crossval_accuracy.mean()\n",
        "  std_score = crossval_accuracy.std()\n",
        "  print('accuracy', mean_score, '±', std_score)\n",
        "\n",
        "  crossval_recall = cross_val_score(model, givenx, giveny, scoring='recall_macro', cv = kf, verbose=False)\n",
        "  mean_score = crossval_recall.mean()\n",
        "  std_score = crossval_recall.std()\n",
        "  print('recall', mean_score, '±', std_score)\n",
        "\n",
        "  if giveny.nunique() == 2:\n",
        "    y_proba = model.predict_proba(xtest)\n",
        "    print('roc_auc_score', roc_auc_score(y_test, y_proba[:,1]))\n",
        "     "
      ],
      "metadata": {
        "id": "2m0vAymVGOUO"
      },
      "execution_count": null,
      "outputs": []
    },
    {
      "cell_type": "code",
      "source": [
        "def logreg_class(xtrain, ytrain, xtest, ytest, xgiven, ygiven):\n",
        "  warnings.filterwarnings('ignore')\n",
        "\n",
        "  parameters = {\n",
        "      'penalty' : ['l1','l2'], \n",
        "      'C'       : np.logspace(-3,3,7),\n",
        "      'solver'  : ['newton-cg', 'lbfgs', 'liblinear'],\n",
        "  }\n",
        "\n",
        "  logreg = LogisticRegression()\n",
        "  clf = GridSearchCV(logreg,                    # model\n",
        "                    param_grid = parameters,   # hyperparameters\n",
        "                    scoring='accuracy',        # metric for scoring\n",
        "                    cv=10)  \n",
        "            \n",
        "  clf.fit(xtrain,ytrain)\n",
        "\n",
        "  print(\"Tuned Hyperparameters :\", clf.best_params_)\n",
        "  print(\"Accuracy :\", clf.best_score_, '\\n')\n",
        "\n",
        "  params = clf.best_params_\n",
        "  logreg = LogisticRegression(solver=params['solver'], max_iter=6000, penalty=params['penalty'], C=params['C']) #, class_weight = 'balanced' 'C': 0.1,  'penalty': 'l2',  'solver': 'liblinear'\n",
        "  logreg.fit(xtrain, ytrain)\n",
        "  y_pred = logreg.predict(xtest)\n",
        "\n",
        "  print(classification_report(ytest,y_pred))\n",
        "  val_acc = accuracy_score(y_pred, ytest)\n",
        "  print(val_acc)\n",
        "\n",
        "  calculate_scores(logreg, xgiven, ygiven, xtest)"
      ],
      "metadata": {
        "id": "Kc-ma-X_GOzS"
      },
      "execution_count": null,
      "outputs": []
    },
    {
      "cell_type": "markdown",
      "source": [
        "**Non-binary**"
      ],
      "metadata": {
        "id": "plYu8ln3BKJi"
      }
    },
    {
      "cell_type": "markdown",
      "source": [
        "All features"
      ],
      "metadata": {
        "id": "2Dk-RkBjCyP3"
      }
    },
    {
      "cell_type": "code",
      "source": [
        "X = df.drop(['tds', 'tds_binary'], axis=1)\n",
        "y = df.tds # Target variable\n",
        "\n",
        "oversample = SMOTE(k_neighbors=2)\n",
        "X, y = oversample.fit_resample(X, y)\n",
        "\n",
        "X_train, X_test, y_train, y_test = train_test_split(X, y, test_size=0.4, random_state=16)"
      ],
      "metadata": {
        "id": "_tlr7dfdA2Zs"
      },
      "execution_count": null,
      "outputs": []
    },
    {
      "cell_type": "code",
      "source": [
        "logreg_class(X_train, y_train, X_test, y_test, X, y)"
      ],
      "metadata": {
        "colab": {
          "base_uri": "https://localhost:8080/"
        },
        "id": "xAk5HwInBHgM",
        "outputId": "861abb5e-e2f3-49d9-f699-6a2d35faab54"
      },
      "execution_count": null,
      "outputs": [
        {
          "output_type": "stream",
          "name": "stdout",
          "text": [
            "Tuned Hyperparameters : {'C': 1000.0, 'penalty': 'l2', 'solver': 'liblinear'}\n",
            "Accuracy : 0.9444444444444444 \n",
            "\n",
            "              precision    recall  f1-score   support\n",
            "\n",
            "           0       0.96      0.87      0.91        55\n",
            "           1       0.92      0.97      0.94        60\n",
            "           2       0.97      1.00      0.98        65\n",
            "\n",
            "    accuracy                           0.95       180\n",
            "   macro avg       0.95      0.95      0.95       180\n",
            "weighted avg       0.95      0.95      0.95       180\n",
            "\n",
            "0.95\n",
            "f1_macro 0.7617599248946465 ± 0.27984753088663905\n",
            "accuracy 0.9266666666666665 ± 0.0837692303332034\n",
            "recall 0.7846124645144253 ± 0.2588570728629069\n"
          ]
        }
      ]
    },
    {
      "cell_type": "markdown",
      "source": [
        "Only 1D features"
      ],
      "metadata": {
        "id": "ed0VogLG74ne"
      }
    },
    {
      "cell_type": "code",
      "source": [
        "X = df1d.drop(['tds', 'tds_binary'], axis=1)\n",
        "y = df1d.tds # Target variable\n",
        "\n",
        "oversample = SMOTE(k_neighbors=2)\n",
        "X, y = oversample.fit_resample(X, y)\n",
        "\n",
        "X_train, X_test, y_train, y_test = train_test_split(X, y, test_size=0.4, random_state=16)"
      ],
      "metadata": {
        "id": "zwx7WW6d6-KL"
      },
      "execution_count": null,
      "outputs": []
    },
    {
      "cell_type": "code",
      "source": [
        "logreg_class(X_train, y_train, X_test, y_test, X, y)"
      ],
      "metadata": {
        "colab": {
          "base_uri": "https://localhost:8080/"
        },
        "id": "HdXJmbiG78Cr",
        "outputId": "2c3d9448-7ae8-437e-9156-8a304e282f28"
      },
      "execution_count": null,
      "outputs": [
        {
          "output_type": "stream",
          "name": "stdout",
          "text": [
            "Tuned Hyperparameters : {'C': 100.0, 'penalty': 'l1', 'solver': 'liblinear'}\n",
            "Accuracy : 0.8481481481481481 \n",
            "\n",
            "              precision    recall  f1-score   support\n",
            "\n",
            "           0       0.78      0.69      0.73        55\n",
            "           1       0.75      0.80      0.77        60\n",
            "           2       0.97      1.00      0.98        65\n",
            "\n",
            "    accuracy                           0.84       180\n",
            "   macro avg       0.83      0.83      0.83       180\n",
            "weighted avg       0.84      0.84      0.84       180\n",
            "\n",
            "0.8388888888888889\n",
            "f1_macro 0.5893836152406249 ± 0.29388781331088154\n",
            "accuracy 0.7822222222222222 ± 0.15389590838382922\n",
            "recall 0.5803839044035122 ± 0.31692367945110306\n"
          ]
        }
      ]
    },
    {
      "cell_type": "markdown",
      "source": [
        "**Binary**"
      ],
      "metadata": {
        "id": "QMtlKS1dC0oh"
      }
    },
    {
      "cell_type": "markdown",
      "source": [
        "All Features"
      ],
      "metadata": {
        "id": "jvWCMLikEp_1"
      }
    },
    {
      "cell_type": "code",
      "source": [
        "X = df.drop(['tds', 'tds_binary'], axis=1)\n",
        "y = df.tds_binary # Target variable\n",
        "\n",
        "oversample = SMOTE(k_neighbors=2)\n",
        "X, y = oversample.fit_resample(X, y)\n",
        "\n",
        "X_train, X_test, y_train, y_test = train_test_split(X, y, test_size=0.4, random_state=16)"
      ],
      "metadata": {
        "id": "35b-Q4fKDEhi"
      },
      "execution_count": null,
      "outputs": []
    },
    {
      "cell_type": "code",
      "source": [
        "logreg_class(X_train, y_train, X_test, y_test, X, y)"
      ],
      "metadata": {
        "colab": {
          "base_uri": "https://localhost:8080/"
        },
        "id": "nKWM7foLC1-C",
        "outputId": "474c32d7-15d2-43b6-f7ad-fdb7fd9d4baf"
      },
      "execution_count": null,
      "outputs": [
        {
          "output_type": "stream",
          "name": "stdout",
          "text": [
            "Tuned Hyperparameters : {'C': 10.0, 'penalty': 'l1', 'solver': 'liblinear'}\n",
            "Accuracy : 0.9444444444444444 \n",
            "\n",
            "              precision    recall  f1-score   support\n",
            "\n",
            "           0       0.92      0.85      0.89        55\n",
            "           1       0.88      0.94      0.91        65\n",
            "\n",
            "    accuracy                           0.90       120\n",
            "   macro avg       0.90      0.90      0.90       120\n",
            "weighted avg       0.90      0.90      0.90       120\n",
            "\n",
            "0.9\n",
            "f1_macro 0.6862488313927086 ± 0.23608126083255654\n",
            "accuracy 0.8966666666666667 ± 0.08621678104251708\n",
            "recall 0.6897885998521207 ± 0.2624015364974067\n",
            "roc_auc_score 0.9412587412587413\n"
          ]
        }
      ]
    },
    {
      "cell_type": "markdown",
      "source": [
        "Only1D\n"
      ],
      "metadata": {
        "id": "_MCpULuqEsSF"
      }
    },
    {
      "cell_type": "code",
      "source": [
        "X = df1d.drop(['tds', 'tds_binary'], axis=1)\n",
        "y = df1d.tds_binary # Target variable\n",
        "\n",
        "oversample = SMOTE(k_neighbors=2)\n",
        "X, y = oversample.fit_resample(X, y)\n",
        "\n",
        "X_train, X_test, y_train, y_test = train_test_split(X, y, test_size=0.4, random_state=16)"
      ],
      "metadata": {
        "id": "N08teTeVEruf"
      },
      "execution_count": null,
      "outputs": []
    },
    {
      "cell_type": "code",
      "source": [
        "logreg_class(X_train, y_train, X_test, y_test, X, y)"
      ],
      "metadata": {
        "colab": {
          "base_uri": "https://localhost:8080/"
        },
        "id": "YvjKahaaErqw",
        "outputId": "888ad8c5-3318-497c-a9b4-a3163cbcc2e6"
      },
      "execution_count": null,
      "outputs": [
        {
          "output_type": "stream",
          "name": "stdout",
          "text": [
            "Tuned Hyperparameters : {'C': 10.0, 'penalty': 'l1', 'solver': 'liblinear'}\n",
            "Accuracy : 0.8666666666666666 \n",
            "\n",
            "              precision    recall  f1-score   support\n",
            "\n",
            "           0       0.73      0.82      0.77        55\n",
            "           1       0.83      0.74      0.78        65\n",
            "\n",
            "    accuracy                           0.78       120\n",
            "   macro avg       0.78      0.78      0.77       120\n",
            "weighted avg       0.78      0.78      0.78       120\n",
            "\n",
            "0.775\n",
            "f1_macro 0.5151258825412961 ± 0.1557734672426017\n",
            "accuracy 0.7566666666666667 ± 0.08439325934114777\n",
            "recall 0.4770134496813262 ± 0.18071549404330278\n",
            "roc_auc_score 0.8075524475524476\n"
          ]
        }
      ]
    },
    {
      "cell_type": "code",
      "source": [],
      "metadata": {
        "id": "YbV5qqYUE0jo"
      },
      "execution_count": null,
      "outputs": []
    }
  ]
}