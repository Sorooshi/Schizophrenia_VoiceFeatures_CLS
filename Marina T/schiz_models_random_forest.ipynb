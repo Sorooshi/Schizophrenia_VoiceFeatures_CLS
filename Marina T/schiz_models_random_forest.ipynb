{
  "nbformat": 4,
  "nbformat_minor": 0,
  "metadata": {
    "colab": {
      "provenance": []
    },
    "kernelspec": {
      "name": "python3",
      "display_name": "Python 3"
    },
    "language_info": {
      "name": "python"
    },
    "accelerator": "GPU",
    "gpuClass": "premium"
  },
  "cells": [
    {
      "cell_type": "code",
      "source": [
        "from google.colab import drive\n",
        "drive.mount('/content/drive/')"
      ],
      "metadata": {
        "colab": {
          "base_uri": "https://localhost:8080/"
        },
        "id": "Hm4Gv0JiOFmk",
        "outputId": "9c3ac171-4765-4fae-a586-4955159ac31f"
      },
      "execution_count": 1,
      "outputs": [
        {
          "output_type": "stream",
          "name": "stdout",
          "text": [
            "Mounted at /content/drive/\n"
          ]
        }
      ]
    },
    {
      "cell_type": "code",
      "source": [
        "%cd drive\n",
        "%cd MyDrive\n",
        "%cd shiz"
      ],
      "metadata": {
        "colab": {
          "base_uri": "https://localhost:8080/"
        },
        "id": "P6U-kZ7fOWnJ",
        "outputId": "65af1bd4-3238-4e66-f714-93edf157d33d"
      },
      "execution_count": 2,
      "outputs": [
        {
          "output_type": "stream",
          "name": "stdout",
          "text": [
            "/content/drive\n",
            "/content/drive/MyDrive\n",
            "/content/drive/MyDrive/shiz\n"
          ]
        }
      ]
    },
    {
      "cell_type": "code",
      "source": [
        "sorted_idx = logreg.feature_importances_.argsort()\n",
        "feature_names = [f\"feature {i}\" for i in range(X.shape[1])]\n",
        "plt.barh(X.columns[sorted_idx], logreg.feature_importances_[sorted_idx])\n",
        "plt.xlabel(\"Feature Importance\")"
      ],
      "metadata": {
        "id": "l3-LftJI8tKo"
      },
      "execution_count": null,
      "outputs": []
    },
    {
      "cell_type": "code",
      "source": [
        "import warnings\n",
        "import pandas as pd\n",
        "import numpy as np\n",
        "import matplotlib.pyplot as plt"
      ],
      "metadata": {
        "id": "lF-8DAAdfu_V"
      },
      "execution_count": 3,
      "outputs": []
    },
    {
      "cell_type": "code",
      "source": [
        "!pip install scikit-optimize"
      ],
      "metadata": {
        "id": "eMO3X_vOfyP0",
        "colab": {
          "base_uri": "https://localhost:8080/"
        },
        "outputId": "ad2be6da-f291-40f2-fd23-1c4e9f28dfca"
      },
      "execution_count": 4,
      "outputs": [
        {
          "output_type": "stream",
          "name": "stdout",
          "text": [
            "Looking in indexes: https://pypi.org/simple, https://us-python.pkg.dev/colab-wheels/public/simple/\n",
            "Collecting scikit-optimize\n",
            "  Downloading scikit_optimize-0.9.0-py2.py3-none-any.whl (100 kB)\n",
            "\u001b[?25l     \u001b[90m━━━━━━━━━━━━━━━━━━━━━━━━━━━━━━━━━━━━━━━━\u001b[0m \u001b[32m0.0/100.3 KB\u001b[0m \u001b[31m?\u001b[0m eta \u001b[36m-:--:--\u001b[0m\r\u001b[2K     \u001b[90m━━━━━━━━━━━━━━━━━━━━━━━━━━━━━━━━━━━━━━━\u001b[0m \u001b[32m100.3/100.3 KB\u001b[0m \u001b[31m4.2 MB/s\u001b[0m eta \u001b[36m0:00:00\u001b[0m\n",
            "\u001b[?25hRequirement already satisfied: numpy>=1.13.3 in /usr/local/lib/python3.8/dist-packages (from scikit-optimize) (1.22.4)\n",
            "Collecting pyaml>=16.9\n",
            "  Downloading pyaml-21.10.1-py2.py3-none-any.whl (24 kB)\n",
            "Requirement already satisfied: scikit-learn>=0.20.0 in /usr/local/lib/python3.8/dist-packages (from scikit-optimize) (1.2.1)\n",
            "Requirement already satisfied: scipy>=0.19.1 in /usr/local/lib/python3.8/dist-packages (from scikit-optimize) (1.10.1)\n",
            "Requirement already satisfied: joblib>=0.11 in /usr/local/lib/python3.8/dist-packages (from scikit-optimize) (1.2.0)\n",
            "Requirement already satisfied: PyYAML in /usr/local/lib/python3.8/dist-packages (from pyaml>=16.9->scikit-optimize) (6.0)\n",
            "Requirement already satisfied: threadpoolctl>=2.0.0 in /usr/local/lib/python3.8/dist-packages (from scikit-learn>=0.20.0->scikit-optimize) (3.1.0)\n",
            "Installing collected packages: pyaml, scikit-optimize\n",
            "Successfully installed pyaml-21.10.1 scikit-optimize-0.9.0\n"
          ]
        }
      ]
    },
    {
      "cell_type": "code",
      "source": [
        "from sklearn.model_selection import train_test_split\n",
        "\n",
        "from sklearn.metrics import classification_report\n",
        "from sklearn.metrics import accuracy_score\n",
        "from sklearn.model_selection import cross_val_score\n",
        "from sklearn.model_selection import cross_validate\n",
        "from sklearn.metrics import recall_score\n",
        "from sklearn.metrics import roc_auc_score\n",
        "\n",
        "from skopt import BayesSearchCV\n",
        "from sklearn.datasets import load_digits\n",
        "from sklearn.ensemble import RandomForestClassifier\n",
        "\n",
        "from sklearn.model_selection import KFold"
      ],
      "metadata": {
        "id": "6030Ov49etBu"
      },
      "execution_count": 5,
      "outputs": []
    },
    {
      "cell_type": "code",
      "source": [
        "scoring = ['recall', 'accuracy', 'f1', 'roc_auc']"
      ],
      "metadata": {
        "id": "krJ2h_mgjtbJ"
      },
      "execution_count": 6,
      "outputs": []
    },
    {
      "cell_type": "code",
      "source": [
        "df = pd.read_excel('df_standard_cleaned_21feb.xlsx') \n",
        "df1d = pd.read_excel('df_standard_only1dfeatures.xlsx')\n",
        "\n",
        "df = df.set_index('ID')\n",
        "df1d = df1d.set_index('ID')\n",
        "df.head(1)"
      ],
      "metadata": {
        "colab": {
          "base_uri": "https://localhost:8080/",
          "height": 223
        },
        "id": "p_fxmc9SeuDD",
        "outputId": "80990d61-3055-46d0-9cf0-6672b6a934dd"
      },
      "execution_count": 7,
      "outputs": [
        {
          "output_type": "execute_result",
          "data": {
            "text/plain": [
              "        sex  tds  chroma_cens_avg  chroma_cens_std  chroma_cqt_avg  \\\n",
              "ID                                                                   \n",
              "PD-003    1    0         0.685706         0.428088        0.425039   \n",
              "\n",
              "        chroma_cqt_std  chroma_stft_avg  chroma_stft_std  melspectrogram_avg  \\\n",
              "ID                                                                             \n",
              "PD-003        0.296394         0.339246         0.434412            0.327867   \n",
              "\n",
              "        melspectrogram_std  ...  spectral_flatness_std  spectral_rolloff_avg  \\\n",
              "ID                          ...                                                \n",
              "PD-003            0.348849  ...                0.31499              0.397736   \n",
              "\n",
              "        spectral_rolloff_std  tempogram_avg  tempogram_std  tonnetz_avg  \\\n",
              "ID                                                                        \n",
              "PD-003              0.254215       0.747885       0.719312     0.691479   \n",
              "\n",
              "        tonnetz_std  zero_crossing_rate_avg  zero_crossing_rate_std  \\\n",
              "ID                                                                    \n",
              "PD-003     0.329593                0.197304                0.281692   \n",
              "\n",
              "        tds_binary  \n",
              "ID                  \n",
              "PD-003           0  \n",
              "\n",
              "[1 rows x 31 columns]"
            ],
            "text/html": [
              "\n",
              "  <div id=\"df-3618568d-5409-4e1a-8df9-90535ba7adf5\">\n",
              "    <div class=\"colab-df-container\">\n",
              "      <div>\n",
              "<style scoped>\n",
              "    .dataframe tbody tr th:only-of-type {\n",
              "        vertical-align: middle;\n",
              "    }\n",
              "\n",
              "    .dataframe tbody tr th {\n",
              "        vertical-align: top;\n",
              "    }\n",
              "\n",
              "    .dataframe thead th {\n",
              "        text-align: right;\n",
              "    }\n",
              "</style>\n",
              "<table border=\"1\" class=\"dataframe\">\n",
              "  <thead>\n",
              "    <tr style=\"text-align: right;\">\n",
              "      <th></th>\n",
              "      <th>sex</th>\n",
              "      <th>tds</th>\n",
              "      <th>chroma_cens_avg</th>\n",
              "      <th>chroma_cens_std</th>\n",
              "      <th>chroma_cqt_avg</th>\n",
              "      <th>chroma_cqt_std</th>\n",
              "      <th>chroma_stft_avg</th>\n",
              "      <th>chroma_stft_std</th>\n",
              "      <th>melspectrogram_avg</th>\n",
              "      <th>melspectrogram_std</th>\n",
              "      <th>...</th>\n",
              "      <th>spectral_flatness_std</th>\n",
              "      <th>spectral_rolloff_avg</th>\n",
              "      <th>spectral_rolloff_std</th>\n",
              "      <th>tempogram_avg</th>\n",
              "      <th>tempogram_std</th>\n",
              "      <th>tonnetz_avg</th>\n",
              "      <th>tonnetz_std</th>\n",
              "      <th>zero_crossing_rate_avg</th>\n",
              "      <th>zero_crossing_rate_std</th>\n",
              "      <th>tds_binary</th>\n",
              "    </tr>\n",
              "    <tr>\n",
              "      <th>ID</th>\n",
              "      <th></th>\n",
              "      <th></th>\n",
              "      <th></th>\n",
              "      <th></th>\n",
              "      <th></th>\n",
              "      <th></th>\n",
              "      <th></th>\n",
              "      <th></th>\n",
              "      <th></th>\n",
              "      <th></th>\n",
              "      <th></th>\n",
              "      <th></th>\n",
              "      <th></th>\n",
              "      <th></th>\n",
              "      <th></th>\n",
              "      <th></th>\n",
              "      <th></th>\n",
              "      <th></th>\n",
              "      <th></th>\n",
              "      <th></th>\n",
              "      <th></th>\n",
              "    </tr>\n",
              "  </thead>\n",
              "  <tbody>\n",
              "    <tr>\n",
              "      <th>PD-003</th>\n",
              "      <td>1</td>\n",
              "      <td>0</td>\n",
              "      <td>0.685706</td>\n",
              "      <td>0.428088</td>\n",
              "      <td>0.425039</td>\n",
              "      <td>0.296394</td>\n",
              "      <td>0.339246</td>\n",
              "      <td>0.434412</td>\n",
              "      <td>0.327867</td>\n",
              "      <td>0.348849</td>\n",
              "      <td>...</td>\n",
              "      <td>0.31499</td>\n",
              "      <td>0.397736</td>\n",
              "      <td>0.254215</td>\n",
              "      <td>0.747885</td>\n",
              "      <td>0.719312</td>\n",
              "      <td>0.691479</td>\n",
              "      <td>0.329593</td>\n",
              "      <td>0.197304</td>\n",
              "      <td>0.281692</td>\n",
              "      <td>0</td>\n",
              "    </tr>\n",
              "  </tbody>\n",
              "</table>\n",
              "<p>1 rows × 31 columns</p>\n",
              "</div>\n",
              "      <button class=\"colab-df-convert\" onclick=\"convertToInteractive('df-3618568d-5409-4e1a-8df9-90535ba7adf5')\"\n",
              "              title=\"Convert this dataframe to an interactive table.\"\n",
              "              style=\"display:none;\">\n",
              "        \n",
              "  <svg xmlns=\"http://www.w3.org/2000/svg\" height=\"24px\"viewBox=\"0 0 24 24\"\n",
              "       width=\"24px\">\n",
              "    <path d=\"M0 0h24v24H0V0z\" fill=\"none\"/>\n",
              "    <path d=\"M18.56 5.44l.94 2.06.94-2.06 2.06-.94-2.06-.94-.94-2.06-.94 2.06-2.06.94zm-11 1L8.5 8.5l.94-2.06 2.06-.94-2.06-.94L8.5 2.5l-.94 2.06-2.06.94zm10 10l.94 2.06.94-2.06 2.06-.94-2.06-.94-.94-2.06-.94 2.06-2.06.94z\"/><path d=\"M17.41 7.96l-1.37-1.37c-.4-.4-.92-.59-1.43-.59-.52 0-1.04.2-1.43.59L10.3 9.45l-7.72 7.72c-.78.78-.78 2.05 0 2.83L4 21.41c.39.39.9.59 1.41.59.51 0 1.02-.2 1.41-.59l7.78-7.78 2.81-2.81c.8-.78.8-2.07 0-2.86zM5.41 20L4 18.59l7.72-7.72 1.47 1.35L5.41 20z\"/>\n",
              "  </svg>\n",
              "      </button>\n",
              "      \n",
              "  <style>\n",
              "    .colab-df-container {\n",
              "      display:flex;\n",
              "      flex-wrap:wrap;\n",
              "      gap: 12px;\n",
              "    }\n",
              "\n",
              "    .colab-df-convert {\n",
              "      background-color: #E8F0FE;\n",
              "      border: none;\n",
              "      border-radius: 50%;\n",
              "      cursor: pointer;\n",
              "      display: none;\n",
              "      fill: #1967D2;\n",
              "      height: 32px;\n",
              "      padding: 0 0 0 0;\n",
              "      width: 32px;\n",
              "    }\n",
              "\n",
              "    .colab-df-convert:hover {\n",
              "      background-color: #E2EBFA;\n",
              "      box-shadow: 0px 1px 2px rgba(60, 64, 67, 0.3), 0px 1px 3px 1px rgba(60, 64, 67, 0.15);\n",
              "      fill: #174EA6;\n",
              "    }\n",
              "\n",
              "    [theme=dark] .colab-df-convert {\n",
              "      background-color: #3B4455;\n",
              "      fill: #D2E3FC;\n",
              "    }\n",
              "\n",
              "    [theme=dark] .colab-df-convert:hover {\n",
              "      background-color: #434B5C;\n",
              "      box-shadow: 0px 1px 3px 1px rgba(0, 0, 0, 0.15);\n",
              "      filter: drop-shadow(0px 1px 2px rgba(0, 0, 0, 0.3));\n",
              "      fill: #FFFFFF;\n",
              "    }\n",
              "  </style>\n",
              "\n",
              "      <script>\n",
              "        const buttonEl =\n",
              "          document.querySelector('#df-3618568d-5409-4e1a-8df9-90535ba7adf5 button.colab-df-convert');\n",
              "        buttonEl.style.display =\n",
              "          google.colab.kernel.accessAllowed ? 'block' : 'none';\n",
              "\n",
              "        async function convertToInteractive(key) {\n",
              "          const element = document.querySelector('#df-3618568d-5409-4e1a-8df9-90535ba7adf5');\n",
              "          const dataTable =\n",
              "            await google.colab.kernel.invokeFunction('convertToInteractive',\n",
              "                                                     [key], {});\n",
              "          if (!dataTable) return;\n",
              "\n",
              "          const docLinkHtml = 'Like what you see? Visit the ' +\n",
              "            '<a target=\"_blank\" href=https://colab.research.google.com/notebooks/data_table.ipynb>data table notebook</a>'\n",
              "            + ' to learn more about interactive tables.';\n",
              "          element.innerHTML = '';\n",
              "          dataTable['output_type'] = 'display_data';\n",
              "          await google.colab.output.renderOutput(dataTable, element);\n",
              "          const docLink = document.createElement('div');\n",
              "          docLink.innerHTML = docLinkHtml;\n",
              "          element.appendChild(docLink);\n",
              "        }\n",
              "      </script>\n",
              "    </div>\n",
              "  </div>\n",
              "  "
            ]
          },
          "metadata": {},
          "execution_count": 7
        }
      ]
    },
    {
      "cell_type": "markdown",
      "source": [
        "**Non-binary**"
      ],
      "metadata": {
        "id": "6PL8VFRje2hq"
      }
    },
    {
      "cell_type": "markdown",
      "source": [
        "All features"
      ],
      "metadata": {
        "id": "MHiNIs2mOlsE"
      }
    },
    {
      "cell_type": "code",
      "source": [
        "X = df.drop(['tds', 'tds_binary'], axis=1)\n",
        "y = df.tds # Target variable\n",
        "\n",
        "X_train, X_test, y_train, y_test = train_test_split(X, y, test_size=0.4, random_state=16)"
      ],
      "metadata": {
        "id": "-79b32xAevEr"
      },
      "execution_count": 20,
      "outputs": []
    },
    {
      "cell_type": "code",
      "source": [
        "warnings.filterwarnings('ignore')\n",
        "\n",
        "opt = BayesSearchCV(\n",
        "    RandomForestClassifier(),\n",
        "    {\n",
        "        'n_estimators':  (100, 1000),\n",
        "        'max_depth': (10, 100),\n",
        "        'min_samples_split': np.linspace(0.0001, 1, 10),\n",
        "        'min_samples_leaf': np.linspace(0.0001, 0.5, 10),\n",
        "    },\n",
        "    n_iter=32,\n",
        "    cv=3\n",
        ")\n",
        "\n",
        "opt.fit(X_train, y_train)\n",
        "\n",
        "print(\"val. score: %s\" % opt.best_score_)\n",
        "print(\"test score: %s\" % opt.score(X_test, y_test))\n",
        "print(\"best_params: %s\" % opt.best_params_)"
      ],
      "metadata": {
        "colab": {
          "base_uri": "https://localhost:8080/"
        },
        "id": "89DCNmzVe_pF",
        "outputId": "af640373-3263-48f2-9874-6ff280d71c96"
      },
      "execution_count": 21,
      "outputs": [
        {
          "output_type": "stream",
          "name": "stdout",
          "text": [
            "val. score: 0.8912655971479501\n",
            "test score: 0.8823529411764706\n",
            "best_params: OrderedDict([('max_depth', 67), ('min_samples_leaf', 0.3889111111111111), ('min_samples_split', 0.8889), ('n_estimators', 426)])\n"
          ]
        }
      ]
    },
    {
      "cell_type": "code",
      "source": [
        "rfc = RandomForestClassifier(n_estimators = opt.best_params_['n_estimators'], \n",
        "                             max_depth = opt.best_params_['max_depth'],\n",
        "                             min_samples_split = opt.best_params_['min_samples_split'],\n",
        "                             min_samples_leaf = opt.best_params_['min_samples_leaf'])\n",
        "rfc.fit(X_train, y_train)\n",
        "y_pred = rfc.predict(X_test)\n",
        "print(classification_report(y_test,y_pred))"
      ],
      "metadata": {
        "colab": {
          "base_uri": "https://localhost:8080/"
        },
        "id": "T74ImmC3fA9f",
        "outputId": "476af1cc-b122-4881-acf1-8cd3857d5bdc"
      },
      "execution_count": 22,
      "outputs": [
        {
          "output_type": "stream",
          "name": "stdout",
          "text": [
            "              precision    recall  f1-score   support\n",
            "\n",
            "           0       0.88      1.00      0.94        60\n",
            "           1       0.00      0.00      0.00         6\n",
            "           2       0.00      0.00      0.00         2\n",
            "\n",
            "    accuracy                           0.88        68\n",
            "   macro avg       0.29      0.33      0.31        68\n",
            "weighted avg       0.78      0.88      0.83        68\n",
            "\n"
          ]
        }
      ]
    },
    {
      "cell_type": "code",
      "source": [
        "kf = KFold(n_splits=10)\n",
        "\n",
        "crossval_accuracy = cross_val_score(rfc, X, y, scoring='accuracy', cv = kf)\n",
        "mean_score = crossval_accuracy.mean()\n",
        "std_score = crossval_accuracy.std()\n",
        "print('accuracy', mean_score, '±', std_score)\n",
        "\n",
        "crossval_recall = cross_val_score(rfc, X, y, scoring='recall_macro', cv = kf)\n",
        "mean_score = crossval_recall.mean()\n",
        "std_score = crossval_recall.std()\n",
        "print('recall', mean_score, '±', std_score)"
      ],
      "metadata": {
        "colab": {
          "base_uri": "https://localhost:8080/"
        },
        "id": "UmkMtQepOtca",
        "outputId": "def5d3be-552b-4830-ed52-92d899f57bad"
      },
      "execution_count": 11,
      "outputs": [
        {
          "output_type": "stream",
          "name": "stdout",
          "text": [
            "accuracy 0.8882352941176471 ± 0.19939354419621522\n",
            "recall 0.7666666666666666 ± 0.2905932629027116\n"
          ]
        }
      ]
    },
    {
      "cell_type": "code",
      "source": [
        "sorted_idx = rfc.feature_importances_.argsort()\n",
        "feature_names = [f\"feature {i}\" for i in range(X.shape[1])]\n",
        "plt.barh(X.columns[sorted_idx], rfc.feature_importances_[sorted_idx])\n",
        "plt.xlabel(\"Random Forest Feature Importance\")\n"
      ],
      "metadata": {
        "colab": {
          "base_uri": "https://localhost:8080/",
          "height": 297
        },
        "id": "26Nqi__URmXm",
        "outputId": "e3d6d0f2-5ea0-45d9-8752-5de90adf1972"
      },
      "execution_count": 27,
      "outputs": [
        {
          "output_type": "execute_result",
          "data": {
            "text/plain": [
              "Text(0.5, 0, 'Random Forest Feature Importance')"
            ]
          },
          "metadata": {},
          "execution_count": 27
        },
        {
          "output_type": "display_data",
          "data": {
            "text/plain": [
              "<Figure size 432x288 with 1 Axes>"
            ],
            "image/png": "[encoded data removed]"
          },
          "metadata": {
            "needs_background": "light"
          }
        }
      ]
    },
    {
      "cell_type": "code",
      "source": [
        "rfc.feature_importances_[sorted_idx]"
      ],
      "metadata": {
        "colab": {
          "base_uri": "https://localhost:8080/"
        },
        "id": "FarRHFRoTKJY",
        "outputId": "b720c655-2c4d-4458-e070-2f25c07f298b"
      },
      "execution_count": 25,
      "outputs": [
        {
          "output_type": "execute_result",
          "data": {
            "text/plain": [
              "array([0., 0., 0., 0., 0., 0., 0., 0., 0., 0., 0., 0., 0., 0., 0., 0., 0.,\n",
              "       0., 0., 0., 0., 0., 0., 0., 0., 0., 0., 0., 0.])"
            ]
          },
          "metadata": {},
          "execution_count": 25
        }
      ]
    },
    {
      "cell_type": "markdown",
      "source": [
        "Only 1D features"
      ],
      "metadata": {
        "id": "vmWZ9SH8Pe19"
      }
    },
    {
      "cell_type": "code",
      "source": [
        "X = df1d.drop(['tds', 'tds_binary'], axis=1)\n",
        "y = df1d.tds # Target variable\n",
        "\n",
        "X_train, X_test, y_train, y_test = train_test_split(X, y, test_size=0.4, random_state=16)"
      ],
      "metadata": {
        "id": "XyH30MbsPeco"
      },
      "execution_count": 12,
      "outputs": []
    },
    {
      "cell_type": "code",
      "source": [
        "warnings.filterwarnings('ignore')\n",
        "\n",
        "opt = BayesSearchCV(\n",
        "    RandomForestClassifier(),\n",
        "    {\n",
        "        'n_estimators':  (100, 1000),\n",
        "        'max_depth': (10, 100),\n",
        "        'min_samples_split': np.linspace(0.0001, 1, 10),\n",
        "        'min_samples_leaf': np.linspace(0.0001, 0.5, 10),\n",
        "    },\n",
        "    n_iter=32,\n",
        "    cv=3\n",
        ")\n",
        "\n",
        "opt.fit(X_train, y_train)\n",
        "\n",
        "print(\"val. score: %s\" % opt.best_score_)\n",
        "print(\"test score: %s\" % opt.score(X_test, y_test))\n",
        "print(\"best_params: %s\" % opt.best_params_)"
      ],
      "metadata": {
        "colab": {
          "base_uri": "https://localhost:8080/"
        },
        "id": "zvY2D53IPeaA",
        "outputId": "dcd03986-5035-4e2f-f634-2e2504ed9557"
      },
      "execution_count": 13,
      "outputs": [
        {
          "output_type": "stream",
          "name": "stdout",
          "text": [
            "val. score: 0.8912655971479501\n",
            "test score: 0.8823529411764706\n",
            "best_params: OrderedDict([('max_depth', 40), ('min_samples_leaf', 0.05564444444444445), ('min_samples_split', 0.33340000000000003), ('n_estimators', 538)])\n"
          ]
        }
      ]
    },
    {
      "cell_type": "code",
      "source": [
        "rfc = RandomForestClassifier(n_estimators = opt.best_params_['n_estimators'], \n",
        "                             max_depth = opt.best_params_['max_depth'],\n",
        "                             min_samples_split = opt.best_params_['min_samples_split'],\n",
        "                             min_samples_leaf = opt.best_params_['min_samples_leaf'])\n",
        "rfc.fit(X_train, y_train)\n",
        "y_pred = rfc.predict(X_test)\n",
        "print(classification_report(y_test,y_pred))"
      ],
      "metadata": {
        "colab": {
          "base_uri": "https://localhost:8080/"
        },
        "id": "fzbV_ONZPeT2",
        "outputId": "df285ddc-30f8-4c44-d266-cce009dfe1c0"
      },
      "execution_count": 14,
      "outputs": [
        {
          "output_type": "stream",
          "name": "stdout",
          "text": [
            "              precision    recall  f1-score   support\n",
            "\n",
            "           0       0.88      1.00      0.94        60\n",
            "           1       0.00      0.00      0.00         6\n",
            "           2       0.00      0.00      0.00         2\n",
            "\n",
            "    accuracy                           0.88        68\n",
            "   macro avg       0.29      0.33      0.31        68\n",
            "weighted avg       0.78      0.88      0.83        68\n",
            "\n"
          ]
        }
      ]
    },
    {
      "cell_type": "code",
      "source": [
        "kf = KFold(n_splits=10)\n",
        "\n",
        "crossval_accuracy = cross_val_score(rfc, X, y, scoring='accuracy', cv = kf)\n",
        "mean_score = crossval_accuracy.mean()\n",
        "std_score = crossval_accuracy.std()\n",
        "print('accuracy', mean_score, '±', std_score)\n",
        "\n",
        "crossval_recall = cross_val_score(rfc, X, y, scoring='recall_macro', cv = kf)\n",
        "mean_score = crossval_recall.mean()\n",
        "std_score = crossval_recall.std()\n",
        "print('recall', mean_score, '±', std_score)"
      ],
      "metadata": {
        "colab": {
          "base_uri": "https://localhost:8080/"
        },
        "id": "EGZCbjdrPkCN",
        "outputId": "a2de2ccd-7c9f-4a0c-e5ba-1dc6adc7de51"
      },
      "execution_count": 15,
      "outputs": [
        {
          "output_type": "stream",
          "name": "stdout",
          "text": [
            "accuracy 0.8761029411764707 ± 0.193998194641655\n",
            "recall 0.6606004901960784 ± 0.28274935816840735\n"
          ]
        }
      ]
    },
    {
      "cell_type": "code",
      "source": [
        "sorted_idx = rfc.feature_importances_.argsort()\n",
        "feature_names = [f\"feature {i}\" for i in range(X.shape[1])]\n",
        "plt.barh(X.columns[sorted_idx], rfc.feature_importances_[sorted_idx])\n",
        "plt.xlabel(\"Random Forest Feature Importance\")"
      ],
      "metadata": {
        "colab": {
          "base_uri": "https://localhost:8080/",
          "height": 297
        },
        "id": "VtHM4rzaPj0p",
        "outputId": "4bc44099-bd96-4f97-9409-715bd9c8e7e1"
      },
      "execution_count": 16,
      "outputs": [
        {
          "output_type": "execute_result",
          "data": {
            "text/plain": [
              "Text(0.5, 0, 'Random Forest Feature Importance')"
            ]
          },
          "metadata": {},
          "execution_count": 16
        },
        {
          "output_type": "display_data",
          "data": {
            "text/plain": [
              "<Figure size 432x288 with 1 Axes>"
            ],
            "image/png": "[encoded data removed]"
          },
          "metadata": {
            "needs_background": "light"
          }
        }
      ]
    },
    {
      "cell_type": "markdown",
      "source": [
        "**Binary**"
      ],
      "metadata": {
        "id": "34AHQVa1j5fG"
      }
    },
    {
      "cell_type": "markdown",
      "source": [
        "All features"
      ],
      "metadata": {
        "id": "YIzZJOBETDkB"
      }
    },
    {
      "cell_type": "code",
      "source": [
        "X = df.drop(['tds', 'tds_binary'], axis=1)\n",
        "y = df.tds_binary # Target variable\n",
        "\n",
        "X_train, X_test, y_train, y_test = train_test_split(X, y, test_size=0.2, random_state=16)"
      ],
      "metadata": {
        "id": "qfWAfkiej4d7"
      },
      "execution_count": 40,
      "outputs": []
    },
    {
      "cell_type": "code",
      "source": [
        "warnings.filterwarnings('ignore')\n",
        "\n",
        "opt = BayesSearchCV(\n",
        "    RandomForestClassifier(),\n",
        "    {\n",
        "        'n_estimators':  (100, 1000),\n",
        "        'max_depth': (10, 100),\n",
        "        'min_samples_split': np.linspace(0.0001, 1, 10), #add integers greater than 1\n",
        "        'min_samples_leaf': np.linspace(0.0001, 0.5, 10), #add integers greater than 1\n",
        "    },\n",
        "    n_iter=32,\n",
        "    cv=3\n",
        ")\n",
        "\n",
        "opt.fit(X_train, y_train)\n",
        "\n",
        "print(\"val. score: %s\" % opt.best_score_)\n",
        "print(\"test score: %s\" % opt.score(X_test, y_test))\n",
        "print(\"best_params: %s\" % opt.best_params_)"
      ],
      "metadata": {
        "colab": {
          "base_uri": "https://localhost:8080/"
        },
        "id": "c4BuJCLCj4cC",
        "outputId": "f30ec254-ffae-477e-f0fb-ac9ae9f47d48"
      },
      "execution_count": 41,
      "outputs": [
        {
          "output_type": "stream",
          "name": "stdout",
          "text": [
            "val. score: 0.8814814814814814\n",
            "test score: 0.9411764705882353\n",
            "best_params: OrderedDict([('max_depth', 29), ('min_samples_leaf', 0.0001), ('min_samples_split', 0.33340000000000003), ('n_estimators', 589)])\n"
          ]
        }
      ]
    },
    {
      "cell_type": "code",
      "source": [
        "from sklearn.ensemble import RandomForestClassifier\n",
        "rfc = RandomForestClassifier(n_estimators = opt.best_params_['n_estimators'], \n",
        "                             max_depth = opt.best_params_['max_depth'],\n",
        "                             min_samples_split = opt.best_params_['min_samples_split'],\n",
        "                             min_samples_leaf = opt.best_params_['min_samples_leaf'])\n",
        "rfc.fit(X_train, y_train)\n",
        "y_pred = rfc.predict(X_test)\n",
        "print(classification_report(y_test,y_pred))"
      ],
      "metadata": {
        "colab": {
          "base_uri": "https://localhost:8080/"
        },
        "id": "0UPBM7E1j4aC",
        "outputId": "e4dbd77e-ac0c-45de-b0b3-4fb5b79d71db"
      },
      "execution_count": 42,
      "outputs": [
        {
          "output_type": "stream",
          "name": "stdout",
          "text": [
            "              precision    recall  f1-score   support\n",
            "\n",
            "           0       0.94      1.00      0.97        32\n",
            "           1       0.00      0.00      0.00         2\n",
            "\n",
            "    accuracy                           0.94        34\n",
            "   macro avg       0.47      0.50      0.48        34\n",
            "weighted avg       0.89      0.94      0.91        34\n",
            "\n"
          ]
        }
      ]
    },
    {
      "cell_type": "code",
      "source": [
        "kf = KFold(n_splits=10)\n",
        "\n",
        "crossval_accuracy = cross_val_score(rfc, X, y, scoring='accuracy', cv = kf)\n",
        "mean_score = crossval_accuracy.mean()\n",
        "std_score = crossval_accuracy.std()\n",
        "print('accuracy', mean_score, '±', std_score)\n",
        "\n",
        "crossval_recall = cross_val_score(rfc, X, y, scoring='recall_macro', cv = kf)\n",
        "mean_score = crossval_recall.mean()\n",
        "std_score = crossval_recall.std()\n",
        "print('recall', mean_score, '±', std_score)"
      ],
      "metadata": {
        "colab": {
          "base_uri": "https://localhost:8080/"
        },
        "id": "YWOchV1yfI0F",
        "outputId": "400b3b36-1347-4ae3-b59e-22ab6935db9d"
      },
      "execution_count": 43,
      "outputs": [
        {
          "output_type": "stream",
          "name": "stdout",
          "text": [
            "accuracy 0.8702205882352942 ± 0.192824135613482\n",
            "recall 0.7378676470588236 ± 0.25658393508546995\n"
          ]
        }
      ]
    },
    {
      "cell_type": "code",
      "source": [
        "sorted_idx = rfc.feature_importances_.argsort()\n",
        "feature_names = [f\"feature {i}\" for i in range(X.shape[1])]\n",
        "plt.barh(X.columns[sorted_idx], rfc.feature_importances_[sorted_idx])\n",
        "plt.xlabel(\"Random Forest Feature Importance\")"
      ],
      "metadata": {
        "colab": {
          "base_uri": "https://localhost:8080/",
          "height": 297
        },
        "id": "0hCt7uwvS1N5",
        "outputId": "ea1831eb-d814-4ad9-dfac-ed3299147cda"
      },
      "execution_count": 33,
      "outputs": [
        {
          "output_type": "execute_result",
          "data": {
            "text/plain": [
              "Text(0.5, 0, 'Random Forest Feature Importance')"
            ]
          },
          "metadata": {},
          "execution_count": 33
        },
        {
          "output_type": "display_data",
          "data": {
            "text/plain": [
              "<Figure size 432x288 with 1 Axes>"
            ],
            "image/png": "[encoded data removed]"
          },
          "metadata": {
            "needs_background": "light"
          }
        }
      ]
    },
    {
      "cell_type": "markdown",
      "source": [
        "Only 1D features"
      ],
      "metadata": {
        "id": "BizRKDVTTE7R"
      }
    },
    {
      "cell_type": "code",
      "source": [
        "X = df1d.drop(['tds', 'tds_binary'], axis=1)\n",
        "y = df1d.tds_binary # Target variable\n",
        "\n",
        "X_train, X_test, y_train, y_test = train_test_split(X, y, test_size=0.4, random_state=16)"
      ],
      "metadata": {
        "id": "ZXVlMHSMS1Gz"
      },
      "execution_count": 44,
      "outputs": []
    },
    {
      "cell_type": "code",
      "source": [
        "warnings.filterwarnings('ignore')\n",
        "\n",
        "opt = BayesSearchCV(\n",
        "    RandomForestClassifier(),\n",
        "    {\n",
        "        'n_estimators':  (100, 1000),\n",
        "        'max_depth': (10, 100),\n",
        "        'min_samples_split': np.linspace(0.0001, 1, 10), #add integers greater than 1\n",
        "        'min_samples_leaf': np.linspace(0.0001, 0.5, 10), #add integers greater than 1\n",
        "    },\n",
        "    n_iter=32,\n",
        "    cv=3\n",
        ")\n",
        "\n",
        "opt.fit(X_train, y_train)\n",
        "\n",
        "print(\"val. score: %s\" % opt.best_score_)\n",
        "print(\"test score: %s\" % opt.score(X_test, y_test))\n",
        "print(\"best_params: %s\" % opt.best_params_)"
      ],
      "metadata": {
        "colab": {
          "base_uri": "https://localhost:8080/"
        },
        "id": "9dy6XvONS_SA",
        "outputId": "7eded8e3-48ba-485d-c3fd-508c0f2f11a7"
      },
      "execution_count": 45,
      "outputs": [
        {
          "output_type": "stream",
          "name": "stdout",
          "text": [
            "val. score: 0.9010695187165775\n",
            "test score: 0.8970588235294118\n",
            "best_params: OrderedDict([('max_depth', 100), ('min_samples_leaf', 0.0001), ('min_samples_split', 0.0001), ('n_estimators', 1000)])\n"
          ]
        }
      ]
    },
    {
      "cell_type": "code",
      "source": [
        "from sklearn.ensemble import RandomForestClassifier\n",
        "rfc = RandomForestClassifier(n_estimators = opt.best_params_['n_estimators'], \n",
        "                             max_depth = opt.best_params_['max_depth'],\n",
        "                             min_samples_split = opt.best_params_['min_samples_split'],\n",
        "                             min_samples_leaf = opt.best_params_['min_samples_leaf'])\n",
        "rfc.fit(X_train, y_train)\n",
        "y_pred = rfc.predict(X_test)\n",
        "print(classification_report(y_test,y_pred))"
      ],
      "metadata": {
        "colab": {
          "base_uri": "https://localhost:8080/"
        },
        "id": "CDVdUvYTS_NU",
        "outputId": "31bc3da1-8e02-4024-99ed-bcfe721ebb34"
      },
      "execution_count": 46,
      "outputs": [
        {
          "output_type": "stream",
          "name": "stdout",
          "text": [
            "              precision    recall  f1-score   support\n",
            "\n",
            "           0       0.92      0.97      0.94        60\n",
            "           1       0.60      0.38      0.46         8\n",
            "\n",
            "    accuracy                           0.90        68\n",
            "   macro avg       0.76      0.67      0.70        68\n",
            "weighted avg       0.88      0.90      0.89        68\n",
            "\n"
          ]
        }
      ]
    },
    {
      "cell_type": "code",
      "source": [
        "kf = KFold(n_splits=10)\n",
        "\n",
        "crossval_accuracy = cross_val_score(rfc, X, y, scoring='accuracy', cv = kf)\n",
        "mean_score = crossval_accuracy.mean()\n",
        "std_score = crossval_accuracy.std()\n",
        "print('accuracy', mean_score, '±', std_score)\n",
        "\n",
        "crossval_recall = cross_val_score(rfc, X, y, scoring='recall_macro', cv = kf)\n",
        "mean_score = crossval_recall.mean()\n",
        "std_score = crossval_recall.std()\n",
        "print('recall', mean_score, '±', std_score)"
      ],
      "metadata": {
        "colab": {
          "base_uri": "https://localhost:8080/"
        },
        "id": "DfvYzykQS_K1",
        "outputId": "6e0f731b-f988-4cfb-f2c3-3e08418bc60e"
      },
      "execution_count": 47,
      "outputs": [
        {
          "output_type": "stream",
          "name": "stdout",
          "text": [
            "accuracy 0.8761029411764707 ± 0.16717271969236655\n",
            "recall 0.6501943277310924 ± 0.2318017476219602\n"
          ]
        }
      ]
    },
    {
      "cell_type": "code",
      "source": [
        "sorted_idx = rfc.feature_importances_.argsort()\n",
        "feature_names = [f\"feature {i}\" for i in range(X.shape[1])]\n",
        "plt.barh(X.columns[sorted_idx], rfc.feature_importances_[sorted_idx])\n",
        "plt.xlabel(\"Random Forest Feature Importance\")"
      ],
      "metadata": {
        "colab": {
          "base_uri": "https://localhost:8080/",
          "height": 297
        },
        "id": "JEnPqetQS_IE",
        "outputId": "2c54151c-2b99-4a81-8ba4-f15347636de5"
      },
      "execution_count": 48,
      "outputs": [
        {
          "output_type": "execute_result",
          "data": {
            "text/plain": [
              "Text(0.5, 0, 'Random Forest Feature Importance')"
            ]
          },
          "metadata": {},
          "execution_count": 48
        },
        {
          "output_type": "display_data",
          "data": {
            "text/plain": [
              "<Figure size 432x288 with 1 Axes>"
            ],
            "image/png": "[encoded data removed]"
          },
          "metadata": {
            "needs_background": "light"
          }
        }
      ]
    },
    {
      "cell_type": "code",
      "source": [],
      "metadata": {
        "id": "qt-ZUtKBS_FY"
      },
      "execution_count": null,
      "outputs": []
    },
    {
      "cell_type": "code",
      "source": [],
      "metadata": {
        "id": "xJPJkeW8S_Cl"
      },
      "execution_count": null,
      "outputs": []
    },
    {
      "cell_type": "markdown",
      "source": [
        "Notes"
      ],
      "metadata": {
        "id": "CHCCmQOroHuI"
      }
    },
    {
      "cell_type": "markdown",
      "source": [
        "![image.png](data:image/png;base64,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)"
      ],
      "metadata": {
        "id": "DfcJTeE2oNsz"
      }
    },
    {
      "cell_type": "code",
      "source": [],
      "metadata": {
        "id": "4KyN5SiCkNad"
      },
      "execution_count": null,
      "outputs": []
    },
    {
      "cell_type": "code",
      "source": [
        "#Notes\n",
        "integers = np.array([i for i in range(1, 50)])\n",
        "min_samples_split_steps = list(np.linspace(0.0, 1, 50)).append(integers)\n",
        "\n",
        "#min_samples_leaf_steps = np.append(np.linspace(0.0, 0.5, 50), integers)"
      ],
      "metadata": {
        "id": "aHZbo5LXk1Tp"
      },
      "execution_count": null,
      "outputs": []
    }
  ]
}