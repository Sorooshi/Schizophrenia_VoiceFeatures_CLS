{
  "nbformat": 4,
  "nbformat_minor": 0,
  "metadata": {
    "colab": {
      "provenance": []
    },
    "kernelspec": {
      "name": "python3",
      "display_name": "Python 3"
    },
    "language_info": {
      "name": "python"
    }
  },
  "cells": [
    {
      "cell_type": "code",
      "source": [
        "import pandas as pd"
      ],
      "metadata": {
        "id": "LprJsNPNIgzN"
      },
      "execution_count": null,
      "outputs": []
    },
    {
      "cell_type": "code",
      "execution_count": null,
      "metadata": {
        "colab": {
          "base_uri": "https://localhost:8080/",
          "height": 223
        },
        "id": "-Q5kZZWXIIAG",
        "outputId": "34b01301-c077-4288-a1e8-45c505a9eb1a"
      },
      "outputs": [
        {
          "output_type": "execute_result",
          "data": {
            "text/plain": [
              "        sex   age  education_lvl  education_years  depression  tds      id  \\\n",
              "ID                                                                           \n",
              "PD-003    1  17.0              0               10           0    0  PD-003   \n",
              "\n",
              "       chroma_cens chroma_cqt chroma_stft  ... spectral_rolloff_std  \\\n",
              "ID                                         ...                        \n",
              "PD-003         NaN        NaN         NaN  ...                  NaN   \n",
              "\n",
              "       poly_features_std tonnetz_std zero_crossing_rate_std tempogram_std  \\\n",
              "ID                                                                          \n",
              "PD-003               NaN         NaN                    NaN           NaN   \n",
              "\n",
              "       rmfourier_tempograms_std chroma_stft_std chroma_cqt_std  \\\n",
              "ID                                                               \n",
              "PD-003                      NaN             NaN            NaN   \n",
              "\n",
              "       chroma_cens_std melspectrogram_std  \n",
              "ID                                         \n",
              "PD-003             NaN                NaN  \n",
              "\n",
              "[1 rows x 55 columns]"
            ],
            "text/html": [
              "\n",
              "  <div id=\"df-91c69fb7-6363-452e-a64b-ce3bb155c4e8\">\n",
              "    <div class=\"colab-df-container\">\n",
              "      <div>\n",
              "<style scoped>\n",
              "    .dataframe tbody tr th:only-of-type {\n",
              "        vertical-align: middle;\n",
              "    }\n",
              "\n",
              "    .dataframe tbody tr th {\n",
              "        vertical-align: top;\n",
              "    }\n",
              "\n",
              "    .dataframe thead th {\n",
              "        text-align: right;\n",
              "    }\n",
              "</style>\n",
              "<table border=\"1\" class=\"dataframe\">\n",
              "  <thead>\n",
              "    <tr style=\"text-align: right;\">\n",
              "      <th></th>\n",
              "      <th>sex</th>\n",
              "      <th>age</th>\n",
              "      <th>education_lvl</th>\n",
              "      <th>education_years</th>\n",
              "      <th>depression</th>\n",
              "      <th>tds</th>\n",
              "      <th>id</th>\n",
              "      <th>chroma_cens</th>\n",
              "      <th>chroma_cqt</th>\n",
              "      <th>chroma_stft</th>\n",
              "      <th>...</th>\n",
              "      <th>spectral_rolloff_std</th>\n",
              "      <th>poly_features_std</th>\n",
              "      <th>tonnetz_std</th>\n",
              "      <th>zero_crossing_rate_std</th>\n",
              "      <th>tempogram_std</th>\n",
              "      <th>rmfourier_tempograms_std</th>\n",
              "      <th>chroma_stft_std</th>\n",
              "      <th>chroma_cqt_std</th>\n",
              "      <th>chroma_cens_std</th>\n",
              "      <th>melspectrogram_std</th>\n",
              "    </tr>\n",
              "    <tr>\n",
              "      <th>ID</th>\n",
              "      <th></th>\n",
              "      <th></th>\n",
              "      <th></th>\n",
              "      <th></th>\n",
              "      <th></th>\n",
              "      <th></th>\n",
              "      <th></th>\n",
              "      <th></th>\n",
              "      <th></th>\n",
              "      <th></th>\n",
              "      <th></th>\n",
              "      <th></th>\n",
              "      <th></th>\n",
              "      <th></th>\n",
              "      <th></th>\n",
              "      <th></th>\n",
              "      <th></th>\n",
              "      <th></th>\n",
              "      <th></th>\n",
              "      <th></th>\n",
              "      <th></th>\n",
              "    </tr>\n",
              "  </thead>\n",
              "  <tbody>\n",
              "    <tr>\n",
              "      <th>PD-003</th>\n",
              "      <td>1</td>\n",
              "      <td>17.0</td>\n",
              "      <td>0</td>\n",
              "      <td>10</td>\n",
              "      <td>0</td>\n",
              "      <td>0</td>\n",
              "      <td>PD-003</td>\n",
              "      <td>NaN</td>\n",
              "      <td>NaN</td>\n",
              "      <td>NaN</td>\n",
              "      <td>...</td>\n",
              "      <td>NaN</td>\n",
              "      <td>NaN</td>\n",
              "      <td>NaN</td>\n",
              "      <td>NaN</td>\n",
              "      <td>NaN</td>\n",
              "      <td>NaN</td>\n",
              "      <td>NaN</td>\n",
              "      <td>NaN</td>\n",
              "      <td>NaN</td>\n",
              "      <td>NaN</td>\n",
              "    </tr>\n",
              "  </tbody>\n",
              "</table>\n",
              "<p>1 rows × 55 columns</p>\n",
              "</div>\n",
              "      <button class=\"colab-df-convert\" onclick=\"convertToInteractive('df-91c69fb7-6363-452e-a64b-ce3bb155c4e8')\"\n",
              "              title=\"Convert this dataframe to an interactive table.\"\n",
              "              style=\"display:none;\">\n",
              "        \n",
              "  <svg xmlns=\"http://www.w3.org/2000/svg\" height=\"24px\"viewBox=\"0 0 24 24\"\n",
              "       width=\"24px\">\n",
              "    <path d=\"M0 0h24v24H0V0z\" fill=\"none\"/>\n",
              "    <path d=\"M18.56 5.44l.94 2.06.94-2.06 2.06-.94-2.06-.94-.94-2.06-.94 2.06-2.06.94zm-11 1L8.5 8.5l.94-2.06 2.06-.94-2.06-.94L8.5 2.5l-.94 2.06-2.06.94zm10 10l.94 2.06.94-2.06 2.06-.94-2.06-.94-.94-2.06-.94 2.06-2.06.94z\"/><path d=\"M17.41 7.96l-1.37-1.37c-.4-.4-.92-.59-1.43-.59-.52 0-1.04.2-1.43.59L10.3 9.45l-7.72 7.72c-.78.78-.78 2.05 0 2.83L4 21.41c.39.39.9.59 1.41.59.51 0 1.02-.2 1.41-.59l7.78-7.78 2.81-2.81c.8-.78.8-2.07 0-2.86zM5.41 20L4 18.59l7.72-7.72 1.47 1.35L5.41 20z\"/>\n",
              "  </svg>\n",
              "      </button>\n",
              "      \n",
              "  <style>\n",
              "    .colab-df-container {\n",
              "      display:flex;\n",
              "      flex-wrap:wrap;\n",
              "      gap: 12px;\n",
              "    }\n",
              "\n",
              "    .colab-df-convert {\n",
              "      background-color: #E8F0FE;\n",
              "      border: none;\n",
              "      border-radius: 50%;\n",
              "      cursor: pointer;\n",
              "      display: none;\n",
              "      fill: #1967D2;\n",
              "      height: 32px;\n",
              "      padding: 0 0 0 0;\n",
              "      width: 32px;\n",
              "    }\n",
              "\n",
              "    .colab-df-convert:hover {\n",
              "      background-color: #E2EBFA;\n",
              "      box-shadow: 0px 1px 2px rgba(60, 64, 67, 0.3), 0px 1px 3px 1px rgba(60, 64, 67, 0.15);\n",
              "      fill: #174EA6;\n",
              "    }\n",
              "\n",
              "    [theme=dark] .colab-df-convert {\n",
              "      background-color: #3B4455;\n",
              "      fill: #D2E3FC;\n",
              "    }\n",
              "\n",
              "    [theme=dark] .colab-df-convert:hover {\n",
              "      background-color: #434B5C;\n",
              "      box-shadow: 0px 1px 3px 1px rgba(0, 0, 0, 0.15);\n",
              "      filter: drop-shadow(0px 1px 2px rgba(0, 0, 0, 0.3));\n",
              "      fill: #FFFFFF;\n",
              "    }\n",
              "  </style>\n",
              "\n",
              "      <script>\n",
              "        const buttonEl =\n",
              "          document.querySelector('#df-91c69fb7-6363-452e-a64b-ce3bb155c4e8 button.colab-df-convert');\n",
              "        buttonEl.style.display =\n",
              "          google.colab.kernel.accessAllowed ? 'block' : 'none';\n",
              "\n",
              "        async function convertToInteractive(key) {\n",
              "          const element = document.querySelector('#df-91c69fb7-6363-452e-a64b-ce3bb155c4e8');\n",
              "          const dataTable =\n",
              "            await google.colab.kernel.invokeFunction('convertToInteractive',\n",
              "                                                     [key], {});\n",
              "          if (!dataTable) return;\n",
              "\n",
              "          const docLinkHtml = 'Like what you see? Visit the ' +\n",
              "            '<a target=\"_blank\" href=https://colab.research.google.com/notebooks/data_table.ipynb>data table notebook</a>'\n",
              "            + ' to learn more about interactive tables.';\n",
              "          element.innerHTML = '';\n",
              "          dataTable['output_type'] = 'display_data';\n",
              "          await google.colab.output.renderOutput(dataTable, element);\n",
              "          const docLink = document.createElement('div');\n",
              "          docLink.innerHTML = docLinkHtml;\n",
              "          element.appendChild(docLink);\n",
              "        }\n",
              "      </script>\n",
              "    </div>\n",
              "  </div>\n",
              "  "
            ]
          },
          "metadata": {},
          "execution_count": 83
        }
      ],
      "source": [
        "df = pd.read_excel('/content/df_main_all_features.xlsx')   \n",
        "df = df.set_index('ID')\n",
        "df.head(1)"
      ]
    },
    {
      "cell_type": "code",
      "source": [
        "df = df.dropna(subset = ['poly_features'])\n",
        "df.info()"
      ],
      "metadata": {
        "id": "6-PcQ6enIgIZ"
      },
      "execution_count": null,
      "outputs": []
    },
    {
      "cell_type": "code",
      "source": [
        "df = df.drop(index=['PD-020', 'PD-043', 'PD-045', 'PD-046', 'PD-047', 'PD-026', 'PD-030', 'PD-054', 'PD-055', 'PD-059', 'PD-063', 'PD-065', 'PD-067', 'PD-068', 'PD-070',\n",
        "                    'PD-071', 'PD-074', 'PD-075', 'PD-076', 'PD-079', 'PD-080', 'PD-081', 'PD-082'])"
      ],
      "metadata": {
        "id": "t5gs1pNRHf5Q"
      },
      "execution_count": null,
      "outputs": []
    },
    {
      "cell_type": "code",
      "source": [
        "df.tds.value_counts()"
      ],
      "metadata": {
        "colab": {
          "base_uri": "https://localhost:8080/"
        },
        "id": "eHrMwgD4JHBw",
        "outputId": "ba51d8a1-a17f-4945-c5ae-9f42bb75ad6a"
      },
      "execution_count": null,
      "outputs": [
        {
          "output_type": "execute_result",
          "data": {
            "text/plain": [
              "0    51\n",
              "1     6\n",
              "Name: tds, dtype: int64"
            ]
          },
          "metadata": {},
          "execution_count": 86
        }
      ]
    },
    {
      "cell_type": "code",
      "source": [
        "X = df.drop(['tds', 'depression', 'chroma_cens', 'chroma_cqt', 'id', 'chroma_stft',\n",
        "    'melspectrogram', 'mfcc', 'poly_features', 'rmfourier_tempograms', 'rms', 'spectral_bandwidth', 'spectral_centroid',\n",
        "    'spectral_contrast', 'spectral_flatness', 'spectral_rolloff', 'tempogram', 'tonnetz', 'zero_crossing_rate', 'mfcc_avg',\n",
        "    'rms_avg', 'rmfourier_tempograms_avg'], axis=1) # Features\n",
        "y = df.tds # Target variable"
      ],
      "metadata": {
        "id": "LjiEDOQDIjzb"
      },
      "execution_count": null,
      "outputs": []
    },
    {
      "cell_type": "code",
      "source": [
        "X.info()"
      ],
      "metadata": {
        "id": "LJ1mrPUs0SlY"
      },
      "execution_count": null,
      "outputs": []
    },
    {
      "cell_type": "code",
      "source": [
        "from sklearn.model_selection import train_test_split\n",
        "X_train, X_test, y_train, y_test = train_test_split(X, y, test_size=0.4, random_state=16)"
      ],
      "metadata": {
        "id": "8VWxuY97ItQi"
      },
      "execution_count": null,
      "outputs": []
    },
    {
      "cell_type": "markdown",
      "source": [
        "**Logreg**"
      ],
      "metadata": {
        "id": "CLZWSt_6Guv2"
      }
    },
    {
      "cell_type": "code",
      "source": [
        "from sklearn.linear_model import LogisticRegression\n",
        "\n",
        "logreg = LogisticRegression(solver='lbfgs', max_iter=3000)\n",
        "logreg.fit(X_train, y_train)\n",
        "y_pred = logreg.predict(X_test)\n"
      ],
      "metadata": {
        "id": "Mg-unASFI84I"
      },
      "execution_count": null,
      "outputs": []
    },
    {
      "cell_type": "code",
      "source": [
        "from sklearn.metrics import classification_report\n",
        "from sklearn.metrics import accuracy_score\n",
        "\n",
        "print(classification_report(y_test,y_pred))\n",
        "val_acc = accuracy_score(y_pred, y_test)\n",
        "print(val_acc)"
      ],
      "metadata": {
        "colab": {
          "base_uri": "https://localhost:8080/"
        },
        "id": "DPAgZSTpI-P2",
        "outputId": "29fdac01-b749-4735-d42a-226a197e50e0"
      },
      "execution_count": null,
      "outputs": [
        {
          "output_type": "stream",
          "name": "stdout",
          "text": [
            "              precision    recall  f1-score   support\n",
            "\n",
            "           0       1.00      1.00      1.00        22\n",
            "           1       1.00      1.00      1.00         1\n",
            "\n",
            "    accuracy                           1.00        23\n",
            "   macro avg       1.00      1.00      1.00        23\n",
            "weighted avg       1.00      1.00      1.00        23\n",
            "\n",
            "1.0\n"
          ]
        }
      ]
    },
    {
      "cell_type": "code",
      "source": [
        "from sklearn.model_selection import cross_val_score\n",
        "from sklearn.model_selection import cross_validate\n",
        "from sklearn.metrics import recall_score\n",
        "scoring = ['recall', 'accuracy', 'f1']\n",
        "scores = cross_validate(logreg, X, y, scoring=scoring)\n",
        "scores"
      ],
      "metadata": {
        "colab": {
          "base_uri": "https://localhost:8080/"
        },
        "id": "AVzL9hxpre1r",
        "outputId": "cefbfa79-5b0f-462e-add0-ba593745ba50"
      },
      "execution_count": null,
      "outputs": [
        {
          "output_type": "execute_result",
          "data": {
            "text/plain": [
              "{'fit_time': array([0.41729188, 0.21903539, 0.3631618 , 0.05960274, 0.31193995]),\n",
              " 'score_time': array([0.00573397, 0.00757003, 0.00532293, 0.00394249, 0.003613  ]),\n",
              " 'test_recall': array([0. , 0.5, 0. , 0. , 0. ]),\n",
              " 'test_accuracy': array([0.5       , 0.75      , 0.72727273, 0.90909091, 0.81818182]),\n",
              " 'test_f1': array([0. , 0.4, 0. , 0. , 0. ])}"
            ]
          },
          "metadata": {},
          "execution_count": 185
        }
      ]
    },
    {
      "cell_type": "markdown",
      "source": [
        "**Random forest**"
      ],
      "metadata": {
        "id": "u6ish8QWGwUq"
      }
    },
    {
      "cell_type": "code",
      "source": [
        "from sklearn.ensemble import RandomForestClassifier\n",
        "\n",
        "clf = RandomForestClassifier(n_estimators=100)\n",
        "clf.fit(X_train, y_train)\n",
        "y_pred = clf.predict(X_test)"
      ],
      "metadata": {
        "id": "XUj2m3LRI_za"
      },
      "execution_count": null,
      "outputs": []
    },
    {
      "cell_type": "code",
      "source": [
        "print(classification_report(y_test,y_pred))\n",
        "val_acc = accuracy_score(y_pred, y_test)\n",
        "print(val_acc)"
      ],
      "metadata": {
        "colab": {
          "base_uri": "https://localhost:8080/"
        },
        "id": "52EuPlWyG5gM",
        "outputId": "8adbfbe9-031e-48ba-81b6-708d6c953eea"
      },
      "execution_count": null,
      "outputs": [
        {
          "output_type": "stream",
          "name": "stdout",
          "text": [
            "              precision    recall  f1-score   support\n",
            "\n",
            "           0       0.96      1.00      0.98        22\n",
            "           1       0.00      0.00      0.00         1\n",
            "\n",
            "    accuracy                           0.96        23\n",
            "   macro avg       0.48      0.50      0.49        23\n",
            "weighted avg       0.91      0.96      0.94        23\n",
            "\n",
            "0.9565217391304348\n"
          ]
        },
        {
          "output_type": "stream",
          "name": "stderr",
          "text": [
            "/usr/local/lib/python3.8/dist-packages/sklearn/metrics/_classification.py:1318: UndefinedMetricWarning: Precision and F-score are ill-defined and being set to 0.0 in labels with no predicted samples. Use `zero_division` parameter to control this behavior.\n",
            "  _warn_prf(average, modifier, msg_start, len(result))\n",
            "/usr/local/lib/python3.8/dist-packages/sklearn/metrics/_classification.py:1318: UndefinedMetricWarning: Precision and F-score are ill-defined and being set to 0.0 in labels with no predicted samples. Use `zero_division` parameter to control this behavior.\n",
            "  _warn_prf(average, modifier, msg_start, len(result))\n",
            "/usr/local/lib/python3.8/dist-packages/sklearn/metrics/_classification.py:1318: UndefinedMetricWarning: Precision and F-score are ill-defined and being set to 0.0 in labels with no predicted samples. Use `zero_division` parameter to control this behavior.\n",
            "  _warn_prf(average, modifier, msg_start, len(result))\n"
          ]
        }
      ]
    },
    {
      "cell_type": "code",
      "source": [
        "cross_validate(clf, X, y, scoring=scoring)"
      ],
      "metadata": {
        "colab": {
          "base_uri": "https://localhost:8080/"
        },
        "id": "ad7-Gf2Eu57H",
        "outputId": "6160897e-dfd2-4737-900e-044677174d0d"
      },
      "execution_count": null,
      "outputs": [
        {
          "output_type": "execute_result",
          "data": {
            "text/plain": [
              "{'fit_time': array([0.09943962, 0.08375263, 0.0849421 , 0.08370876, 0.08842039]),\n",
              " 'score_time': array([0.01046515, 0.01009321, 0.01042151, 0.01001287, 0.01037574]),\n",
              " 'test_recall': array([0., 0., 0., 0., 0.]),\n",
              " 'test_accuracy': array([0.83333333, 0.83333333, 0.90909091, 0.81818182, 0.90909091]),\n",
              " 'test_f1': array([0., 0., 0., 0., 0.])}"
            ]
          },
          "metadata": {},
          "execution_count": 186
        }
      ]
    },
    {
      "cell_type": "markdown",
      "source": [
        "**Support Vector Machine**"
      ],
      "metadata": {
        "id": "Gg9iluP1KHYD"
      }
    },
    {
      "cell_type": "code",
      "source": [
        "from sklearn import svm\n",
        "\n",
        "clf = svm.SVC(kernel='linear')\n",
        "clf.fit(X_train, y_train)\n",
        "y_pred = clf.predict(X_test)"
      ],
      "metadata": {
        "id": "ZjrvuYxTG5aU"
      },
      "execution_count": null,
      "outputs": []
    },
    {
      "cell_type": "code",
      "source": [
        "print(classification_report(y_test,y_pred))\n",
        "val_acc = accuracy_score(y_pred, y_test)\n",
        "print(val_acc)"
      ],
      "metadata": {
        "colab": {
          "base_uri": "https://localhost:8080/"
        },
        "id": "nFgzyhM1MS0z",
        "outputId": "389b7740-8be4-424c-d145-e9151590817f"
      },
      "execution_count": null,
      "outputs": [
        {
          "output_type": "stream",
          "name": "stdout",
          "text": [
            "              precision    recall  f1-score   support\n",
            "\n",
            "           0       0.95      0.91      0.93        22\n",
            "           1       0.00      0.00      0.00         1\n",
            "\n",
            "    accuracy                           0.87        23\n",
            "   macro avg       0.48      0.45      0.47        23\n",
            "weighted avg       0.91      0.87      0.89        23\n",
            "\n",
            "0.8695652173913043\n"
          ]
        }
      ]
    },
    {
      "cell_type": "code",
      "source": [
        "cross_validate(clf, X, y, scoring=scoring)"
      ],
      "metadata": {
        "colab": {
          "base_uri": "https://localhost:8080/"
        },
        "id": "TtQnVi0kvoUJ",
        "outputId": "2b0a5bc7-85da-4edf-c36a-cc56ec07c64b"
      },
      "execution_count": null,
      "outputs": [
        {
          "output_type": "execute_result",
          "data": {
            "text/plain": [
              "{'fit_time': array([0.47122598, 0.30299783, 0.03392553, 0.02687502, 0.43245721]),\n",
              " 'score_time': array([0.00404048, 0.00380826, 0.00470781, 0.00405002, 0.00319171]),\n",
              " 'test_recall': array([1. , 0.5, 1. , 0. , 0. ]),\n",
              " 'test_accuracy': array([0.83333333, 0.66666667, 0.72727273, 0.81818182, 0.72727273]),\n",
              " 'test_f1': array([0.5       , 0.33333333, 0.4       , 0.        , 0.        ])}"
            ]
          },
          "metadata": {},
          "execution_count": 189
        }
      ]
    },
    {
      "cell_type": "markdown",
      "source": [
        "**MLP**"
      ],
      "metadata": {
        "id": "xryQ6g-xKILZ"
      }
    },
    {
      "cell_type": "code",
      "source": [
        "from sklearn.datasets import load_iris\n",
        "from sklearn.neural_network import MLPClassifier\n",
        "from sklearn.model_selection import train_test_split\n",
        "from sklearn.preprocessing import StandardScaler\n",
        "import pandas as pd\n",
        "from sklearn.metrics import plot_confusion_matrix\n",
        "import matplotlib.pyplot as plt"
      ],
      "metadata": {
        "id": "kbHTQJ_uMdcb"
      },
      "execution_count": null,
      "outputs": []
    },
    {
      "cell_type": "code",
      "source": [
        "sc_X = StandardScaler()\n",
        "X_trainscaled=sc_X.fit_transform(X_train)\n",
        "X_testscaled=sc_X.transform(X_test)"
      ],
      "metadata": {
        "id": "L4BigzrmMdRL"
      },
      "execution_count": null,
      "outputs": []
    },
    {
      "cell_type": "code",
      "source": [
        "clf = MLPClassifier(hidden_layer_sizes=(256,128,64,32),activation=\"relu\",random_state=1).fit(X_trainscaled, y_train)\n",
        "y_pred=clf.predict(X_testscaled)\n",
        "print(clf.score(X_testscaled, y_test))"
      ],
      "metadata": {
        "colab": {
          "base_uri": "https://localhost:8080/"
        },
        "id": "dfozD1UWMsmJ",
        "outputId": "0cc79128-0df0-4392-8d19-f7d74c47d3ff"
      },
      "execution_count": null,
      "outputs": [
        {
          "output_type": "stream",
          "name": "stdout",
          "text": [
            "0.9130434782608695\n"
          ]
        }
      ]
    },
    {
      "cell_type": "code",
      "source": [
        "print(classification_report(y_test,y_pred))\n",
        "val_acc = accuracy_score(y_pred, y_test)\n",
        "print(val_acc)"
      ],
      "metadata": {
        "colab": {
          "base_uri": "https://localhost:8080/"
        },
        "id": "xoUhuoYQM01Z",
        "outputId": "d06ac5c1-6c9d-47d8-c648-76b91457b236"
      },
      "execution_count": null,
      "outputs": [
        {
          "output_type": "stream",
          "name": "stdout",
          "text": [
            "              precision    recall  f1-score   support\n",
            "\n",
            "           0       0.95      0.95      0.95        22\n",
            "           1       0.00      0.00      0.00         1\n",
            "\n",
            "    accuracy                           0.91        23\n",
            "   macro avg       0.48      0.48      0.48        23\n",
            "weighted avg       0.91      0.91      0.91        23\n",
            "\n",
            "0.9130434782608695\n"
          ]
        }
      ]
    },
    {
      "cell_type": "code",
      "source": [],
      "metadata": {
        "id": "GOT5isHVNehR"
      },
      "execution_count": null,
      "outputs": []
    },
    {
      "cell_type": "markdown",
      "source": [
        "**Lets clean our feature-list according to the chart**"
      ],
      "metadata": {
        "id": "qnzY2tX7mb-5"
      }
    },
    {
      "cell_type": "code",
      "source": [
        "import matplotlib.pyplot as plt\n",
        "\n",
        "coefs = pd.DataFrame(\n",
        "   logreg.coef_.T,\n",
        "   columns=['Coefficients'], index=X_train.columns\n",
        ")\n",
        "\n",
        "coefs.plot(kind='barh', figsize=(9, 7))\n",
        "plt.title('Ridge model')\n",
        "plt.axvline(x=0, color='.5')\n",
        "plt.subplots_adjust(left=.3)"
      ],
      "metadata": {
        "colab": {
          "base_uri": "https://localhost:8080/",
          "height": 444
        },
        "id": "lKP1F4JeG5cj",
        "outputId": "75e6dce3-921c-4775-e8c8-e21b682d959e"
      },
      "execution_count": null,
      "outputs": [
        {
          "output_type": "display_data",
          "data": {
            "text/plain": [
              "<Figure size 648x504 with 1 Axes>"
            ],
            "image/png": "[encoded data removed]"
          },
          "metadata": {
            "needs_background": "light"
          }
        }
      ]
    },
    {
      "cell_type": "code",
      "source": [
        "coefs.apply(lambda x: abs(x)).sort_values(by='Coefficients', ascending=False).head(11)"
      ],
      "metadata": {
        "colab": {
          "base_uri": "https://localhost:8080/",
          "height": 394
        },
        "id": "qp6QMnRyp7Xq",
        "outputId": "a12b1a40-27c3-43bf-92b4-727918ed532b"
      },
      "execution_count": null,
      "outputs": [
        {
          "output_type": "execute_result",
          "data": {
            "text/plain": [
              "                        Coefficients\n",
              "spectral_contrast_avg       0.566649\n",
              "education_lvl               0.519038\n",
              "education_years             0.493082\n",
              "spectral_contrast_std       0.315672\n",
              "melspectrogram_std          0.143789\n",
              "melspectrogram_avg          0.127209\n",
              "age                         0.054750\n",
              "mfcc_std                    0.041763\n",
              "spectral_centroid_avg       0.029989\n",
              "tonnetz_std                 0.020392\n",
              "spectral_bandwidth_avg      0.020303"
            ],
            "text/html": [
              "\n",
              "  <div id=\"df-dea22681-1077-4971-a6cd-af0407ba9abe\">\n",
              "    <div class=\"colab-df-container\">\n",
              "      <div>\n",
              "<style scoped>\n",
              "    .dataframe tbody tr th:only-of-type {\n",
              "        vertical-align: middle;\n",
              "    }\n",
              "\n",
              "    .dataframe tbody tr th {\n",
              "        vertical-align: top;\n",
              "    }\n",
              "\n",
              "    .dataframe thead th {\n",
              "        text-align: right;\n",
              "    }\n",
              "</style>\n",
              "<table border=\"1\" class=\"dataframe\">\n",
              "  <thead>\n",
              "    <tr style=\"text-align: right;\">\n",
              "      <th></th>\n",
              "      <th>Coefficients</th>\n",
              "    </tr>\n",
              "  </thead>\n",
              "  <tbody>\n",
              "    <tr>\n",
              "      <th>spectral_contrast_avg</th>\n",
              "      <td>0.566649</td>\n",
              "    </tr>\n",
              "    <tr>\n",
              "      <th>education_lvl</th>\n",
              "      <td>0.519038</td>\n",
              "    </tr>\n",
              "    <tr>\n",
              "      <th>education_years</th>\n",
              "      <td>0.493082</td>\n",
              "    </tr>\n",
              "    <tr>\n",
              "      <th>spectral_contrast_std</th>\n",
              "      <td>0.315672</td>\n",
              "    </tr>\n",
              "    <tr>\n",
              "      <th>melspectrogram_std</th>\n",
              "      <td>0.143789</td>\n",
              "    </tr>\n",
              "    <tr>\n",
              "      <th>melspectrogram_avg</th>\n",
              "      <td>0.127209</td>\n",
              "    </tr>\n",
              "    <tr>\n",
              "      <th>age</th>\n",
              "      <td>0.054750</td>\n",
              "    </tr>\n",
              "    <tr>\n",
              "      <th>mfcc_std</th>\n",
              "      <td>0.041763</td>\n",
              "    </tr>\n",
              "    <tr>\n",
              "      <th>spectral_centroid_avg</th>\n",
              "      <td>0.029989</td>\n",
              "    </tr>\n",
              "    <tr>\n",
              "      <th>tonnetz_std</th>\n",
              "      <td>0.020392</td>\n",
              "    </tr>\n",
              "    <tr>\n",
              "      <th>spectral_bandwidth_avg</th>\n",
              "      <td>0.020303</td>\n",
              "    </tr>\n",
              "  </tbody>\n",
              "</table>\n",
              "</div>\n",
              "      <button class=\"colab-df-convert\" onclick=\"convertToInteractive('df-dea22681-1077-4971-a6cd-af0407ba9abe')\"\n",
              "              title=\"Convert this dataframe to an interactive table.\"\n",
              "              style=\"display:none;\">\n",
              "        \n",
              "  <svg xmlns=\"http://www.w3.org/2000/svg\" height=\"24px\"viewBox=\"0 0 24 24\"\n",
              "       width=\"24px\">\n",
              "    <path d=\"M0 0h24v24H0V0z\" fill=\"none\"/>\n",
              "    <path d=\"M18.56 5.44l.94 2.06.94-2.06 2.06-.94-2.06-.94-.94-2.06-.94 2.06-2.06.94zm-11 1L8.5 8.5l.94-2.06 2.06-.94-2.06-.94L8.5 2.5l-.94 2.06-2.06.94zm10 10l.94 2.06.94-2.06 2.06-.94-2.06-.94-.94-2.06-.94 2.06-2.06.94z\"/><path d=\"M17.41 7.96l-1.37-1.37c-.4-.4-.92-.59-1.43-.59-.52 0-1.04.2-1.43.59L10.3 9.45l-7.72 7.72c-.78.78-.78 2.05 0 2.83L4 21.41c.39.39.9.59 1.41.59.51 0 1.02-.2 1.41-.59l7.78-7.78 2.81-2.81c.8-.78.8-2.07 0-2.86zM5.41 20L4 18.59l7.72-7.72 1.47 1.35L5.41 20z\"/>\n",
              "  </svg>\n",
              "      </button>\n",
              "      \n",
              "  <style>\n",
              "    .colab-df-container {\n",
              "      display:flex;\n",
              "      flex-wrap:wrap;\n",
              "      gap: 12px;\n",
              "    }\n",
              "\n",
              "    .colab-df-convert {\n",
              "      background-color: #E8F0FE;\n",
              "      border: none;\n",
              "      border-radius: 50%;\n",
              "      cursor: pointer;\n",
              "      display: none;\n",
              "      fill: #1967D2;\n",
              "      height: 32px;\n",
              "      padding: 0 0 0 0;\n",
              "      width: 32px;\n",
              "    }\n",
              "\n",
              "    .colab-df-convert:hover {\n",
              "      background-color: #E2EBFA;\n",
              "      box-shadow: 0px 1px 2px rgba(60, 64, 67, 0.3), 0px 1px 3px 1px rgba(60, 64, 67, 0.15);\n",
              "      fill: #174EA6;\n",
              "    }\n",
              "\n",
              "    [theme=dark] .colab-df-convert {\n",
              "      background-color: #3B4455;\n",
              "      fill: #D2E3FC;\n",
              "    }\n",
              "\n",
              "    [theme=dark] .colab-df-convert:hover {\n",
              "      background-color: #434B5C;\n",
              "      box-shadow: 0px 1px 3px 1px rgba(0, 0, 0, 0.15);\n",
              "      filter: drop-shadow(0px 1px 2px rgba(0, 0, 0, 0.3));\n",
              "      fill: #FFFFFF;\n",
              "    }\n",
              "  </style>\n",
              "\n",
              "      <script>\n",
              "        const buttonEl =\n",
              "          document.querySelector('#df-dea22681-1077-4971-a6cd-af0407ba9abe button.colab-df-convert');\n",
              "        buttonEl.style.display =\n",
              "          google.colab.kernel.accessAllowed ? 'block' : 'none';\n",
              "\n",
              "        async function convertToInteractive(key) {\n",
              "          const element = document.querySelector('#df-dea22681-1077-4971-a6cd-af0407ba9abe');\n",
              "          const dataTable =\n",
              "            await google.colab.kernel.invokeFunction('convertToInteractive',\n",
              "                                                     [key], {});\n",
              "          if (!dataTable) return;\n",
              "\n",
              "          const docLinkHtml = 'Like what you see? Visit the ' +\n",
              "            '<a target=\"_blank\" href=https://colab.research.google.com/notebooks/data_table.ipynb>data table notebook</a>'\n",
              "            + ' to learn more about interactive tables.';\n",
              "          element.innerHTML = '';\n",
              "          dataTable['output_type'] = 'display_data';\n",
              "          await google.colab.output.renderOutput(dataTable, element);\n",
              "          const docLink = document.createElement('div');\n",
              "          docLink.innerHTML = docLinkHtml;\n",
              "          element.appendChild(docLink);\n",
              "        }\n",
              "      </script>\n",
              "    </div>\n",
              "  </div>\n",
              "  "
            ]
          },
          "metadata": {},
          "execution_count": 152
        }
      ]
    },
    {
      "cell_type": "code",
      "source": [
        "feature_cols = ['spectral_contrast_avg', 'education_lvl', 'education_years',  'spectral_contrast_std', 'melspectrogram_std', 'melspectrogram_avg', 'mfcc_std', 'spectral_centroid_avg', 'tonnetz_std',\n",
        "                'spectral_bandwidth_avg']\n",
        "X1 = X[feature_cols]\n",
        "y = df.tds # Target variable"
      ],
      "metadata": {
        "id": "ARGkdvovNeds"
      },
      "execution_count": null,
      "outputs": []
    },
    {
      "cell_type": "markdown",
      "source": [
        "**Logreg clean**"
      ],
      "metadata": {
        "id": "zizHVMQfo2Rc"
      }
    },
    {
      "cell_type": "code",
      "source": [
        "from sklearn.model_selection import train_test_split\n",
        "X_train1, X_test1, y_train, y_test = train_test_split(X1, y, test_size=0.4, random_state=16)"
      ],
      "metadata": {
        "id": "KDu5YjgspAXO"
      },
      "execution_count": null,
      "outputs": []
    },
    {
      "cell_type": "code",
      "source": [
        "from sklearn.linear_model import LogisticRegression\n",
        "\n",
        "logreg = LogisticRegression(solver='lbfgs', max_iter=3000)\n",
        "logreg.fit(X_train1, y_train)\n",
        "y_pred = logreg.predict(X_test1)"
      ],
      "metadata": {
        "id": "8ziK8l2XNebT"
      },
      "execution_count": null,
      "outputs": []
    },
    {
      "cell_type": "code",
      "source": [
        "from sklearn.metrics import classification_report\n",
        "from sklearn.metrics import accuracy_score\n",
        "\n",
        "print(classification_report(y_test,y_pred))\n",
        "val_acc = accuracy_score(y_pred, y_test)\n",
        "print(val_acc)"
      ],
      "metadata": {
        "colab": {
          "base_uri": "https://localhost:8080/"
        },
        "id": "BOuAD-f8NeYv",
        "outputId": "eedeab81-267f-4a8b-a0e5-46443141a819"
      },
      "execution_count": null,
      "outputs": [
        {
          "output_type": "stream",
          "name": "stdout",
          "text": [
            "              precision    recall  f1-score   support\n",
            "\n",
            "           0       1.00      0.95      0.98        22\n",
            "           1       0.50      1.00      0.67         1\n",
            "\n",
            "    accuracy                           0.96        23\n",
            "   macro avg       0.75      0.98      0.82        23\n",
            "weighted avg       0.98      0.96      0.96        23\n",
            "\n",
            "0.9565217391304348\n"
          ]
        }
      ]
    },
    {
      "cell_type": "code",
      "source": [
        "cross_validate(logreg, X, y, scoring=scoring)"
      ],
      "metadata": {
        "colab": {
          "base_uri": "https://localhost:8080/"
        },
        "id": "nA54hvGXvtDo",
        "outputId": "ec107b53-7b6f-4748-b2ae-1fb8fb897349"
      },
      "execution_count": null,
      "outputs": [
        {
          "output_type": "execute_result",
          "data": {
            "text/plain": [
              "{'fit_time': array([0.27971458, 0.19390893, 0.23375726, 0.05642653, 0.39437079]),\n",
              " 'score_time': array([0.00421762, 0.00356245, 0.00401926, 0.00375509, 0.00400782]),\n",
              " 'test_recall': array([0. , 0.5, 0. , 0. , 0. ]),\n",
              " 'test_accuracy': array([0.5       , 0.75      , 0.72727273, 0.90909091, 0.81818182]),\n",
              " 'test_f1': array([0. , 0.4, 0. , 0. , 0. ])}"
            ]
          },
          "metadata": {},
          "execution_count": 204
        }
      ]
    },
    {
      "cell_type": "markdown",
      "source": [
        "**Random forest clean**"
      ],
      "metadata": {
        "id": "-jKSu1XiqgFI"
      }
    },
    {
      "cell_type": "code",
      "source": [
        "from sklearn.ensemble import RandomForestClassifier\n",
        "\n",
        "clf = RandomForestClassifier(n_estimators=100)\n",
        "clf.fit(X_train1, y_train)\n",
        "y_pred = clf.predict(X_test1)"
      ],
      "metadata": {
        "id": "J6pwqsH2qpMW"
      },
      "execution_count": null,
      "outputs": []
    },
    {
      "cell_type": "code",
      "source": [
        "print(classification_report(y_test,y_pred))\n",
        "val_acc = accuracy_score(y_pred, y_test)\n",
        "print(val_acc)"
      ],
      "metadata": {
        "colab": {
          "base_uri": "https://localhost:8080/"
        },
        "outputId": "1a4268b4-d32f-4398-c49e-53de2a8cad78",
        "id": "WoZhodHrqpMX"
      },
      "execution_count": null,
      "outputs": [
        {
          "output_type": "stream",
          "name": "stdout",
          "text": [
            "              precision    recall  f1-score   support\n",
            "\n",
            "           0       0.96      1.00      0.98        22\n",
            "           1       0.00      0.00      0.00         1\n",
            "\n",
            "    accuracy                           0.96        23\n",
            "   macro avg       0.48      0.50      0.49        23\n",
            "weighted avg       0.91      0.96      0.94        23\n",
            "\n",
            "0.9565217391304348\n"
          ]
        },
        {
          "output_type": "stream",
          "name": "stderr",
          "text": [
            "/usr/local/lib/python3.8/dist-packages/sklearn/metrics/_classification.py:1318: UndefinedMetricWarning: Precision and F-score are ill-defined and being set to 0.0 in labels with no predicted samples. Use `zero_division` parameter to control this behavior.\n",
            "  _warn_prf(average, modifier, msg_start, len(result))\n",
            "/usr/local/lib/python3.8/dist-packages/sklearn/metrics/_classification.py:1318: UndefinedMetricWarning: Precision and F-score are ill-defined and being set to 0.0 in labels with no predicted samples. Use `zero_division` parameter to control this behavior.\n",
            "  _warn_prf(average, modifier, msg_start, len(result))\n",
            "/usr/local/lib/python3.8/dist-packages/sklearn/metrics/_classification.py:1318: UndefinedMetricWarning: Precision and F-score are ill-defined and being set to 0.0 in labels with no predicted samples. Use `zero_division` parameter to control this behavior.\n",
            "  _warn_prf(average, modifier, msg_start, len(result))\n"
          ]
        }
      ]
    },
    {
      "cell_type": "code",
      "source": [
        "cross_validate(clf, X, y, scoring=scoring)"
      ],
      "metadata": {
        "id": "ITigF53Fv2ua",
        "outputId": "7aa5e832-b683-440b-8739-4af14968952a",
        "colab": {
          "base_uri": "https://localhost:8080/"
        }
      },
      "execution_count": null,
      "outputs": [
        {
          "output_type": "execute_result",
          "data": {
            "text/plain": [
              "{'fit_time': array([0.09433126, 0.10400009, 0.09909701, 0.09650087, 0.10326529]),\n",
              " 'score_time': array([0.01690841, 0.01421547, 0.01070404, 0.01253319, 0.01064634]),\n",
              " 'test_recall': array([0., 0., 0., 0., 0.]),\n",
              " 'test_accuracy': array([0.91666667, 0.83333333, 0.90909091, 0.81818182, 0.90909091]),\n",
              " 'test_f1': array([0., 0., 0., 0., 0.])}"
            ]
          },
          "metadata": {},
          "execution_count": 200
        }
      ]
    },
    {
      "cell_type": "markdown",
      "source": [
        "**MLP clean**"
      ],
      "metadata": {
        "id": "5Jo839xnqh6V"
      }
    },
    {
      "cell_type": "code",
      "source": [
        "from sklearn.datasets import load_iris\n",
        "from sklearn.neural_network import MLPClassifier\n",
        "from sklearn.model_selection import train_test_split\n",
        "from sklearn.preprocessing import StandardScaler\n",
        "import pandas as pd\n",
        "from sklearn.metrics import plot_confusion_matrix\n",
        "import matplotlib.pyplot as plt"
      ],
      "metadata": {
        "id": "KtQR9nhBq0Hm"
      },
      "execution_count": null,
      "outputs": []
    },
    {
      "cell_type": "code",
      "source": [
        "sc_X = StandardScaler()\n",
        "X_trainscaled=sc_X.fit_transform(X_train1)\n",
        "X_testscaled=sc_X.transform(X_test1)"
      ],
      "metadata": {
        "id": "Xwvu8-__q0Hm"
      },
      "execution_count": null,
      "outputs": []
    },
    {
      "cell_type": "code",
      "source": [
        "clf = MLPClassifier(hidden_layer_sizes=(256,128,64,32),activation=\"relu\",random_state=1).fit(X_trainscaled, y_train)\n",
        "y_pred=clf.predict(X_testscaled)\n",
        "print(clf.score(X_testscaled, y_test))"
      ],
      "metadata": {
        "colab": {
          "base_uri": "https://localhost:8080/"
        },
        "outputId": "3e8aa0e8-7608-468f-ea46-c769849bb9da",
        "id": "JTPLQtQmq0Hn"
      },
      "execution_count": null,
      "outputs": [
        {
          "output_type": "stream",
          "name": "stdout",
          "text": [
            "0.9130434782608695\n"
          ]
        }
      ]
    },
    {
      "cell_type": "code",
      "source": [
        "print(classification_report(y_test,y_pred))\n",
        "val_acc = accuracy_score(y_pred, y_test)\n",
        "print(val_acc)"
      ],
      "metadata": {
        "colab": {
          "base_uri": "https://localhost:8080/"
        },
        "outputId": "5595cfcc-c547-41c8-92fd-a349c22916b5",
        "id": "rxrQdJWQq0Hn"
      },
      "execution_count": null,
      "outputs": [
        {
          "output_type": "stream",
          "name": "stdout",
          "text": [
            "              precision    recall  f1-score   support\n",
            "\n",
            "           0       1.00      0.91      0.95        22\n",
            "           1       0.33      1.00      0.50         1\n",
            "\n",
            "    accuracy                           0.91        23\n",
            "   macro avg       0.67      0.95      0.73        23\n",
            "weighted avg       0.97      0.91      0.93        23\n",
            "\n",
            "0.9130434782608695\n"
          ]
        }
      ]
    },
    {
      "cell_type": "code",
      "source": [
        "cross_validate(clf, X, y, scoring=scoring)"
      ],
      "metadata": {
        "colab": {
          "base_uri": "https://localhost:8080/"
        },
        "id": "6pzOPv0pvvLh",
        "outputId": "00fd92cb-64bd-4846-bc32-e25960d99c98"
      },
      "execution_count": null,
      "outputs": [
        {
          "output_type": "execute_result",
          "data": {
            "text/plain": [
              "{'fit_time': array([0.13342381, 0.08122683, 0.04632664, 0.04288101, 0.09404755]),\n",
              " 'score_time': array([0.00433493, 0.00903988, 0.0045023 , 0.00421238, 0.00436831]),\n",
              " 'test_recall': array([0., 0., 0., 0., 0.]),\n",
              " 'test_accuracy': array([0.58333333, 0.83333333, 0.90909091, 0.90909091, 0.90909091]),\n",
              " 'test_f1': array([0., 0., 0., 0., 0.])}"
            ]
          },
          "metadata": {},
          "execution_count": 197
        }
      ]
    },
    {
      "cell_type": "markdown",
      "source": [
        "**Support Vector Machine Clean**"
      ],
      "metadata": {
        "id": "zCRm0B6Eq73I"
      }
    },
    {
      "cell_type": "code",
      "source": [
        "from sklearn import svm\n",
        "\n",
        "clf = svm.SVC(kernel='linear')\n",
        "clf.fit(X_train1, y_train)\n",
        "y_pred = clf.predict(X_test1)"
      ],
      "metadata": {
        "id": "XhybE2Htq73I"
      },
      "execution_count": null,
      "outputs": []
    },
    {
      "cell_type": "code",
      "source": [
        "print(classification_report(y_test, y_pred))\n",
        "val_acc = accuracy_score(y_pred, y_test)\n",
        "print(val_acc)"
      ],
      "metadata": {
        "colab": {
          "base_uri": "https://localhost:8080/"
        },
        "outputId": "ef50ecb8-a272-4fcc-afda-7320a08e732b",
        "id": "IDntW9o9q73J"
      },
      "execution_count": null,
      "outputs": [
        {
          "output_type": "stream",
          "name": "stdout",
          "text": [
            "              precision    recall  f1-score   support\n",
            "\n",
            "           0       1.00      0.95      0.98        22\n",
            "           1       0.50      1.00      0.67         1\n",
            "\n",
            "    accuracy                           0.96        23\n",
            "   macro avg       0.75      0.98      0.82        23\n",
            "weighted avg       0.98      0.96      0.96        23\n",
            "\n",
            "0.9565217391304348\n"
          ]
        }
      ]
    },
    {
      "cell_type": "code",
      "source": [
        "cross_validate(clf, X, y, scoring=scoring)"
      ],
      "metadata": {
        "colab": {
          "base_uri": "https://localhost:8080/"
        },
        "id": "79e0bJheo67H",
        "outputId": "b1501c78-232d-419e-89c8-5b89055f289e"
      },
      "execution_count": null,
      "outputs": [
        {
          "output_type": "execute_result",
          "data": {
            "text/plain": [
              "{'fit_time': array([0.46429944, 0.29707241, 0.03374243, 0.02259111, 0.44994378]),\n",
              " 'score_time': array([0.00415444, 0.00382066, 0.00410795, 0.00392747, 0.0038712 ]),\n",
              " 'test_recall': array([1. , 0.5, 1. , 0. , 0. ]),\n",
              " 'test_accuracy': array([0.83333333, 0.66666667, 0.72727273, 0.81818182, 0.72727273]),\n",
              " 'test_f1': array([0.5       , 0.33333333, 0.4       , 0.        , 0.        ])}"
            ]
          },
          "metadata": {},
          "execution_count": 192
        }
      ]
    },
    {
      "cell_type": "code",
      "source": [],
      "metadata": {
        "id": "6k_CU_8uo63g"
      },
      "execution_count": null,
      "outputs": []
    },
    {
      "cell_type": "code",
      "source": [
        "df = pd.read_excel('/content/dataframe_features_part1.xlsx')   \n",
        "df.head(1)"
      ],
      "metadata": {
        "colab": {
          "base_uri": "https://localhost:8080/",
          "height": 81
        },
        "id": "bkzND-RiUVeY",
        "outputId": "3388dc10-8b16-4f4a-efde-71dd2618a3dd"
      },
      "execution_count": null,
      "outputs": [
        {
          "output_type": "execute_result",
          "data": {
            "text/plain": [
              "       id                                               mfcc  \\\n",
              "0  PN-001  [[-4.2090518e+02 -4.1795706e+02 -4.1681949e+02...   \n",
              "\n",
              "                                                 rms  \\\n",
              "0  [[0.00281481 0.0030643  0.00320054 ... 0.00176...   \n",
              "\n",
              "                                  spectral_bandwidth  \\\n",
              "0  [[2282.5480437  2286.29200883 2188.82044914 .....   \n",
              "\n",
              "                                   spectral_centroid  \n",
              "0  [[1939.71990394 2097.18418387 2023.85706612 .....  "
            ],
            "text/html": [
              "\n",
              "  <div id=\"df-a35f19b1-78e2-4137-a110-f469cc3bc017\">\n",
              "    <div class=\"colab-df-container\">\n",
              "      <div>\n",
              "<style scoped>\n",
              "    .dataframe tbody tr th:only-of-type {\n",
              "        vertical-align: middle;\n",
              "    }\n",
              "\n",
              "    .dataframe tbody tr th {\n",
              "        vertical-align: top;\n",
              "    }\n",
              "\n",
              "    .dataframe thead th {\n",
              "        text-align: right;\n",
              "    }\n",
              "</style>\n",
              "<table border=\"1\" class=\"dataframe\">\n",
              "  <thead>\n",
              "    <tr style=\"text-align: right;\">\n",
              "      <th></th>\n",
              "      <th>id</th>\n",
              "      <th>mfcc</th>\n",
              "      <th>rms</th>\n",
              "      <th>spectral_bandwidth</th>\n",
              "      <th>spectral_centroid</th>\n",
              "    </tr>\n",
              "  </thead>\n",
              "  <tbody>\n",
              "    <tr>\n",
              "      <th>0</th>\n",
              "      <td>PN-001</td>\n",
              "      <td>[[-4.2090518e+02 -4.1795706e+02 -4.1681949e+02...</td>\n",
              "      <td>[[0.00281481 0.0030643  0.00320054 ... 0.00176...</td>\n",
              "      <td>[[2282.5480437  2286.29200883 2188.82044914 .....</td>\n",
              "      <td>[[1939.71990394 2097.18418387 2023.85706612 .....</td>\n",
              "    </tr>\n",
              "  </tbody>\n",
              "</table>\n",
              "</div>\n",
              "      <button class=\"colab-df-convert\" onclick=\"convertToInteractive('df-a35f19b1-78e2-4137-a110-f469cc3bc017')\"\n",
              "              title=\"Convert this dataframe to an interactive table.\"\n",
              "              style=\"display:none;\">\n",
              "        \n",
              "  <svg xmlns=\"http://www.w3.org/2000/svg\" height=\"24px\"viewBox=\"0 0 24 24\"\n",
              "       width=\"24px\">\n",
              "    <path d=\"M0 0h24v24H0V0z\" fill=\"none\"/>\n",
              "    <path d=\"M18.56 5.44l.94 2.06.94-2.06 2.06-.94-2.06-.94-.94-2.06-.94 2.06-2.06.94zm-11 1L8.5 8.5l.94-2.06 2.06-.94-2.06-.94L8.5 2.5l-.94 2.06-2.06.94zm10 10l.94 2.06.94-2.06 2.06-.94-2.06-.94-.94-2.06-.94 2.06-2.06.94z\"/><path d=\"M17.41 7.96l-1.37-1.37c-.4-.4-.92-.59-1.43-.59-.52 0-1.04.2-1.43.59L10.3 9.45l-7.72 7.72c-.78.78-.78 2.05 0 2.83L4 21.41c.39.39.9.59 1.41.59.51 0 1.02-.2 1.41-.59l7.78-7.78 2.81-2.81c.8-.78.8-2.07 0-2.86zM5.41 20L4 18.59l7.72-7.72 1.47 1.35L5.41 20z\"/>\n",
              "  </svg>\n",
              "      </button>\n",
              "      \n",
              "  <style>\n",
              "    .colab-df-container {\n",
              "      display:flex;\n",
              "      flex-wrap:wrap;\n",
              "      gap: 12px;\n",
              "    }\n",
              "\n",
              "    .colab-df-convert {\n",
              "      background-color: #E8F0FE;\n",
              "      border: none;\n",
              "      border-radius: 50%;\n",
              "      cursor: pointer;\n",
              "      display: none;\n",
              "      fill: #1967D2;\n",
              "      height: 32px;\n",
              "      padding: 0 0 0 0;\n",
              "      width: 32px;\n",
              "    }\n",
              "\n",
              "    .colab-df-convert:hover {\n",
              "      background-color: #E2EBFA;\n",
              "      box-shadow: 0px 1px 2px rgba(60, 64, 67, 0.3), 0px 1px 3px 1px rgba(60, 64, 67, 0.15);\n",
              "      fill: #174EA6;\n",
              "    }\n",
              "\n",
              "    [theme=dark] .colab-df-convert {\n",
              "      background-color: #3B4455;\n",
              "      fill: #D2E3FC;\n",
              "    }\n",
              "\n",
              "    [theme=dark] .colab-df-convert:hover {\n",
              "      background-color: #434B5C;\n",
              "      box-shadow: 0px 1px 3px 1px rgba(0, 0, 0, 0.15);\n",
              "      filter: drop-shadow(0px 1px 2px rgba(0, 0, 0, 0.3));\n",
              "      fill: #FFFFFF;\n",
              "    }\n",
              "  </style>\n",
              "\n",
              "      <script>\n",
              "        const buttonEl =\n",
              "          document.querySelector('#df-a35f19b1-78e2-4137-a110-f469cc3bc017 button.colab-df-convert');\n",
              "        buttonEl.style.display =\n",
              "          google.colab.kernel.accessAllowed ? 'block' : 'none';\n",
              "\n",
              "        async function convertToInteractive(key) {\n",
              "          const element = document.querySelector('#df-a35f19b1-78e2-4137-a110-f469cc3bc017');\n",
              "          const dataTable =\n",
              "            await google.colab.kernel.invokeFunction('convertToInteractive',\n",
              "                                                     [key], {});\n",
              "          if (!dataTable) return;\n",
              "\n",
              "          const docLinkHtml = 'Like what you see? Visit the ' +\n",
              "            '<a target=\"_blank\" href=https://colab.research.google.com/notebooks/data_table.ipynb>data table notebook</a>'\n",
              "            + ' to learn more about interactive tables.';\n",
              "          element.innerHTML = '';\n",
              "          dataTable['output_type'] = 'display_data';\n",
              "          await google.colab.output.renderOutput(dataTable, element);\n",
              "          const docLink = document.createElement('div');\n",
              "          docLink.innerHTML = docLinkHtml;\n",
              "          element.appendChild(docLink);\n",
              "        }\n",
              "      </script>\n",
              "    </div>\n",
              "  </div>\n",
              "  "
            ]
          },
          "metadata": {},
          "execution_count": 37
        }
      ]
    },
    {
      "cell_type": "code",
      "source": [
        "df.mfcc.loc[0]"
      ],
      "metadata": {
        "id": "rDrenqL9UVa8",
        "colab": {
          "base_uri": "https://localhost:8080/",
          "height": 87
        },
        "outputId": "8926537b-bd97-4390-ea57-ee52a1581864"
      },
      "execution_count": null,
      "outputs": [
        {
          "output_type": "execute_result",
          "data": {
            "text/plain": [
              "'[[-4.2090518e+02 -4.1795706e+02 -4.1681949e+02 ... -4.4962762e+02\\n  -4.5417838e+02 -4.5316531e+02]\\n [ 8.1351097e+01  8.2413574e+01  8.4944420e+01 ...  7.2280846e+01\\n   6.7743637e+01  6.6557884e+01]\\n [ 4.4983715e-02 -6.6028509e+00 -6.7538242e+00 ...  2.5326290e+01\\n   2.5615200e+01  2.5945168e+01]\\n ...\\n [ 1.9838735e+00  1.9422665e+00  6.4676481e-01 ... -2.0345259e+00\\n  -7.3707871e+00 -9.4360008e+00]\\n [ 7.8509369e+00  5.8000584e+00  4.7093377e+00 ... -4.1411486e+00\\n  -6.7274680e+00 -6.0570002e+00]\\n [ 6.6103106e+00  5.5401816e+00  4.6622686e+00 ... -5.5795817e+00\\n  -8.5120459e+00 -7.5306969e+00]]'"
            ],
            "application/vnd.google.colaboratory.intrinsic+json": {
              "type": "string"
            }
          },
          "metadata": {},
          "execution_count": 43
        }
      ]
    },
    {
      "cell_type": "code",
      "source": [],
      "metadata": {
        "id": "xmclH9TyUVYv"
      },
      "execution_count": null,
      "outputs": []
    }
  ]
}