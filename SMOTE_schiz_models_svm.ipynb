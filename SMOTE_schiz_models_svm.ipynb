{
  "nbformat": 4,
  "nbformat_minor": 0,
  "metadata": {
    "colab": {
      "provenance": [],
      "authorship_tag": "ABX9TyMkZFJaCgw//3oJnGsk6WGd",
      "include_colab_link": true
    },
    "kernelspec": {
      "name": "python3",
      "display_name": "Python 3"
    },
    "language_info": {
      "name": "python"
    },
    "gpuClass": "standard"
  },
  "cells": [
    {
      "cell_type": "markdown",
      "metadata": {
        "id": "view-in-github",
        "colab_type": "text"
      },
      "source": [
        "<a href=\"https://colab.research.google.com/github/Whoami666/HSE_Lab/blob/main/clean_models/SMOTE_schiz_models_svm.ipynb\" target=\"_parent\"><img src=\"https://colab.research.google.com/assets/colab-badge.svg\" alt=\"Open In Colab\"/></a>"
      ]
    },
    {
      "cell_type": "code",
      "execution_count": 1,
      "metadata": {
        "colab": {
          "base_uri": "https://localhost:8080/"
        },
        "id": "_-O7H1U0SDLX",
        "outputId": "fe5d1fcb-ed7e-4079-b5b6-a62933a40800"
      },
      "outputs": [
        {
          "output_type": "stream",
          "name": "stdout",
          "text": [
            "Mounted at /content/drive/\n"
          ]
        }
      ],
      "source": [
        "from google.colab import drive\n",
        "drive.mount('/content/drive/')"
      ]
    },
    {
      "cell_type": "code",
      "source": [
        "!pip install scikit-optimize"
      ],
      "metadata": {
        "colab": {
          "base_uri": "https://localhost:8080/"
        },
        "id": "CaFLaU9CVPEy",
        "outputId": "4ac41df3-edbe-47ca-b7ce-23ac4704ec5c"
      },
      "execution_count": 2,
      "outputs": [
        {
          "output_type": "stream",
          "name": "stdout",
          "text": [
            "Looking in indexes: https://pypi.org/simple, https://us-python.pkg.dev/colab-wheels/public/simple/\n",
            "Collecting scikit-optimize\n",
            "  Downloading scikit_optimize-0.9.0-py2.py3-none-any.whl (100 kB)\n",
            "\u001b[2K     \u001b[90m━━━━━━━━━━━━━━━━━━━━━━━━━━━━━━━━━━━━━━━\u001b[0m \u001b[32m100.3/100.3 KB\u001b[0m \u001b[31m3.8 MB/s\u001b[0m eta \u001b[36m0:00:00\u001b[0m\n",
            "\u001b[?25hRequirement already satisfied: scipy>=0.19.1 in /usr/local/lib/python3.9/dist-packages (from scikit-optimize) (1.10.1)\n",
            "Requirement already satisfied: joblib>=0.11 in /usr/local/lib/python3.9/dist-packages (from scikit-optimize) (1.1.1)\n",
            "Collecting pyaml>=16.9\n",
            "  Downloading pyaml-21.10.1-py2.py3-none-any.whl (24 kB)\n",
            "Requirement already satisfied: numpy>=1.13.3 in /usr/local/lib/python3.9/dist-packages (from scikit-optimize) (1.22.4)\n",
            "Requirement already satisfied: scikit-learn>=0.20.0 in /usr/local/lib/python3.9/dist-packages (from scikit-optimize) (1.2.2)\n",
            "Requirement already satisfied: PyYAML in /usr/local/lib/python3.9/dist-packages (from pyaml>=16.9->scikit-optimize) (6.0)\n",
            "Requirement already satisfied: threadpoolctl>=2.0.0 in /usr/local/lib/python3.9/dist-packages (from scikit-learn>=0.20.0->scikit-optimize) (3.1.0)\n",
            "Installing collected packages: pyaml, scikit-optimize\n",
            "Successfully installed pyaml-21.10.1 scikit-optimize-0.9.0\n"
          ]
        }
      ]
    },
    {
      "cell_type": "code",
      "source": [
        "%cd drive\n",
        "%cd MyDrive\n",
        "%cd shiz"
      ],
      "metadata": {
        "colab": {
          "base_uri": "https://localhost:8080/"
        },
        "id": "BmRref53TGwK",
        "outputId": "9d6ce1e7-bf5d-4b1a-de81-ddd017635fc4"
      },
      "execution_count": 3,
      "outputs": [
        {
          "output_type": "stream",
          "name": "stdout",
          "text": [
            "/content/drive\n",
            "/content/drive/MyDrive\n",
            "/content/drive/MyDrive/shiz\n"
          ]
        }
      ]
    },
    {
      "cell_type": "code",
      "source": [
        "import pandas as pd\n",
        "import numpy as np\n",
        "import matplotlib.pyplot as plt\n",
        "import warnings"
      ],
      "metadata": {
        "id": "mQo3f_X7TZuk"
      },
      "execution_count": 4,
      "outputs": []
    },
    {
      "cell_type": "code",
      "source": [
        "df = pd.read_excel('df_standard_cleaned_21feb.xlsx') \n",
        "df1d = pd.read_excel('df_standard_only1dfeatures.xlsx')\n",
        "\n",
        "df = df.set_index('ID')\n",
        "df1d = df1d.set_index('ID')\n",
        "df.head(1)"
      ],
      "metadata": {
        "colab": {
          "base_uri": "https://localhost:8080/",
          "height": 223
        },
        "id": "RwouRYMzTbGq",
        "outputId": "39a698da-aaa6-456c-bc20-d75c001cd05c"
      },
      "execution_count": 5,
      "outputs": [
        {
          "output_type": "execute_result",
          "data": {
            "text/plain": [
              "        sex  tds  chroma_cens_avg  chroma_cens_std  chroma_cqt_avg  \\\n",
              "ID                                                                   \n",
              "PD-003    1    0         0.685706         0.428088        0.425039   \n",
              "\n",
              "        chroma_cqt_std  chroma_stft_avg  chroma_stft_std  melspectrogram_avg  \\\n",
              "ID                                                                             \n",
              "PD-003        0.296394         0.339246         0.434412            0.327867   \n",
              "\n",
              "        melspectrogram_std  ...  spectral_flatness_std  spectral_rolloff_avg  \\\n",
              "ID                          ...                                                \n",
              "PD-003            0.348849  ...                0.31499              0.397736   \n",
              "\n",
              "        spectral_rolloff_std  tempogram_avg  tempogram_std  tonnetz_avg  \\\n",
              "ID                                                                        \n",
              "PD-003              0.254215       0.747885       0.719312     0.691479   \n",
              "\n",
              "        tonnetz_std  zero_crossing_rate_avg  zero_crossing_rate_std  \\\n",
              "ID                                                                    \n",
              "PD-003     0.329593                0.197304                0.281692   \n",
              "\n",
              "        tds_binary  \n",
              "ID                  \n",
              "PD-003           0  \n",
              "\n",
              "[1 rows x 31 columns]"
            ],
            "text/html": [
              "\n",
              "  <div id=\"df-f1fc62dc-8f36-4a45-a75a-9881f7419051\">\n",
              "    <div class=\"colab-df-container\">\n",
              "      <div>\n",
              "<style scoped>\n",
              "    .dataframe tbody tr th:only-of-type {\n",
              "        vertical-align: middle;\n",
              "    }\n",
              "\n",
              "    .dataframe tbody tr th {\n",
              "        vertical-align: top;\n",
              "    }\n",
              "\n",
              "    .dataframe thead th {\n",
              "        text-align: right;\n",
              "    }\n",
              "</style>\n",
              "<table border=\"1\" class=\"dataframe\">\n",
              "  <thead>\n",
              "    <tr style=\"text-align: right;\">\n",
              "      <th></th>\n",
              "      <th>sex</th>\n",
              "      <th>tds</th>\n",
              "      <th>chroma_cens_avg</th>\n",
              "      <th>chroma_cens_std</th>\n",
              "      <th>chroma_cqt_avg</th>\n",
              "      <th>chroma_cqt_std</th>\n",
              "      <th>chroma_stft_avg</th>\n",
              "      <th>chroma_stft_std</th>\n",
              "      <th>melspectrogram_avg</th>\n",
              "      <th>melspectrogram_std</th>\n",
              "      <th>...</th>\n",
              "      <th>spectral_flatness_std</th>\n",
              "      <th>spectral_rolloff_avg</th>\n",
              "      <th>spectral_rolloff_std</th>\n",
              "      <th>tempogram_avg</th>\n",
              "      <th>tempogram_std</th>\n",
              "      <th>tonnetz_avg</th>\n",
              "      <th>tonnetz_std</th>\n",
              "      <th>zero_crossing_rate_avg</th>\n",
              "      <th>zero_crossing_rate_std</th>\n",
              "      <th>tds_binary</th>\n",
              "    </tr>\n",
              "    <tr>\n",
              "      <th>ID</th>\n",
              "      <th></th>\n",
              "      <th></th>\n",
              "      <th></th>\n",
              "      <th></th>\n",
              "      <th></th>\n",
              "      <th></th>\n",
              "      <th></th>\n",
              "      <th></th>\n",
              "      <th></th>\n",
              "      <th></th>\n",
              "      <th></th>\n",
              "      <th></th>\n",
              "      <th></th>\n",
              "      <th></th>\n",
              "      <th></th>\n",
              "      <th></th>\n",
              "      <th></th>\n",
              "      <th></th>\n",
              "      <th></th>\n",
              "      <th></th>\n",
              "      <th></th>\n",
              "    </tr>\n",
              "  </thead>\n",
              "  <tbody>\n",
              "    <tr>\n",
              "      <th>PD-003</th>\n",
              "      <td>1</td>\n",
              "      <td>0</td>\n",
              "      <td>0.685706</td>\n",
              "      <td>0.428088</td>\n",
              "      <td>0.425039</td>\n",
              "      <td>0.296394</td>\n",
              "      <td>0.339246</td>\n",
              "      <td>0.434412</td>\n",
              "      <td>0.327867</td>\n",
              "      <td>0.348849</td>\n",
              "      <td>...</td>\n",
              "      <td>0.31499</td>\n",
              "      <td>0.397736</td>\n",
              "      <td>0.254215</td>\n",
              "      <td>0.747885</td>\n",
              "      <td>0.719312</td>\n",
              "      <td>0.691479</td>\n",
              "      <td>0.329593</td>\n",
              "      <td>0.197304</td>\n",
              "      <td>0.281692</td>\n",
              "      <td>0</td>\n",
              "    </tr>\n",
              "  </tbody>\n",
              "</table>\n",
              "<p>1 rows × 31 columns</p>\n",
              "</div>\n",
              "      <button class=\"colab-df-convert\" onclick=\"convertToInteractive('df-f1fc62dc-8f36-4a45-a75a-9881f7419051')\"\n",
              "              title=\"Convert this dataframe to an interactive table.\"\n",
              "              style=\"display:none;\">\n",
              "        \n",
              "  <svg xmlns=\"http://www.w3.org/2000/svg\" height=\"24px\"viewBox=\"0 0 24 24\"\n",
              "       width=\"24px\">\n",
              "    <path d=\"M0 0h24v24H0V0z\" fill=\"none\"/>\n",
              "    <path d=\"M18.56 5.44l.94 2.06.94-2.06 2.06-.94-2.06-.94-.94-2.06-.94 2.06-2.06.94zm-11 1L8.5 8.5l.94-2.06 2.06-.94-2.06-.94L8.5 2.5l-.94 2.06-2.06.94zm10 10l.94 2.06.94-2.06 2.06-.94-2.06-.94-.94-2.06-.94 2.06-2.06.94z\"/><path d=\"M17.41 7.96l-1.37-1.37c-.4-.4-.92-.59-1.43-.59-.52 0-1.04.2-1.43.59L10.3 9.45l-7.72 7.72c-.78.78-.78 2.05 0 2.83L4 21.41c.39.39.9.59 1.41.59.51 0 1.02-.2 1.41-.59l7.78-7.78 2.81-2.81c.8-.78.8-2.07 0-2.86zM5.41 20L4 18.59l7.72-7.72 1.47 1.35L5.41 20z\"/>\n",
              "  </svg>\n",
              "      </button>\n",
              "      \n",
              "  <style>\n",
              "    .colab-df-container {\n",
              "      display:flex;\n",
              "      flex-wrap:wrap;\n",
              "      gap: 12px;\n",
              "    }\n",
              "\n",
              "    .colab-df-convert {\n",
              "      background-color: #E8F0FE;\n",
              "      border: none;\n",
              "      border-radius: 50%;\n",
              "      cursor: pointer;\n",
              "      display: none;\n",
              "      fill: #1967D2;\n",
              "      height: 32px;\n",
              "      padding: 0 0 0 0;\n",
              "      width: 32px;\n",
              "    }\n",
              "\n",
              "    .colab-df-convert:hover {\n",
              "      background-color: #E2EBFA;\n",
              "      box-shadow: 0px 1px 2px rgba(60, 64, 67, 0.3), 0px 1px 3px 1px rgba(60, 64, 67, 0.15);\n",
              "      fill: #174EA6;\n",
              "    }\n",
              "\n",
              "    [theme=dark] .colab-df-convert {\n",
              "      background-color: #3B4455;\n",
              "      fill: #D2E3FC;\n",
              "    }\n",
              "\n",
              "    [theme=dark] .colab-df-convert:hover {\n",
              "      background-color: #434B5C;\n",
              "      box-shadow: 0px 1px 3px 1px rgba(0, 0, 0, 0.15);\n",
              "      filter: drop-shadow(0px 1px 2px rgba(0, 0, 0, 0.3));\n",
              "      fill: #FFFFFF;\n",
              "    }\n",
              "  </style>\n",
              "\n",
              "      <script>\n",
              "        const buttonEl =\n",
              "          document.querySelector('#df-f1fc62dc-8f36-4a45-a75a-9881f7419051 button.colab-df-convert');\n",
              "        buttonEl.style.display =\n",
              "          google.colab.kernel.accessAllowed ? 'block' : 'none';\n",
              "\n",
              "        async function convertToInteractive(key) {\n",
              "          const element = document.querySelector('#df-f1fc62dc-8f36-4a45-a75a-9881f7419051');\n",
              "          const dataTable =\n",
              "            await google.colab.kernel.invokeFunction('convertToInteractive',\n",
              "                                                     [key], {});\n",
              "          if (!dataTable) return;\n",
              "\n",
              "          const docLinkHtml = 'Like what you see? Visit the ' +\n",
              "            '<a target=\"_blank\" href=https://colab.research.google.com/notebooks/data_table.ipynb>data table notebook</a>'\n",
              "            + ' to learn more about interactive tables.';\n",
              "          element.innerHTML = '';\n",
              "          dataTable['output_type'] = 'display_data';\n",
              "          await google.colab.output.renderOutput(dataTable, element);\n",
              "          const docLink = document.createElement('div');\n",
              "          docLink.innerHTML = docLinkHtml;\n",
              "          element.appendChild(docLink);\n",
              "        }\n",
              "      </script>\n",
              "    </div>\n",
              "  </div>\n",
              "  "
            ]
          },
          "metadata": {},
          "execution_count": 5
        }
      ]
    },
    {
      "cell_type": "markdown",
      "source": [
        "Models"
      ],
      "metadata": {
        "id": "FvRmHYQ2TdxL"
      }
    },
    {
      "cell_type": "code",
      "source": [
        "from sklearn.metrics import classification_report\n",
        "from sklearn.metrics import accuracy_score\n",
        "from sklearn.metrics import recall_score\n",
        "from sklearn.metrics import roc_auc_score\n",
        "\n",
        "from sklearn.model_selection import cross_val_score\n",
        "from sklearn.model_selection import cross_validate\n",
        "from sklearn.model_selection import KFold\n",
        "from sklearn.model_selection import train_test_split\n",
        "\n",
        "from sklearn.inspection import permutation_importance\n",
        "\n",
        "from sklearn.linear_model import LogisticRegression\n",
        "from skopt import BayesSearchCV\n",
        "from sklearn.svm import SVC"
      ],
      "metadata": {
        "id": "PHJhvtleTcHk"
      },
      "execution_count": 6,
      "outputs": []
    },
    {
      "cell_type": "code",
      "source": [
        "from imblearn.over_sampling import SMOTE"
      ],
      "metadata": {
        "id": "NXA2rFeR4_Df"
      },
      "execution_count": 7,
      "outputs": []
    },
    {
      "cell_type": "code",
      "source": [
        "def calculate_scores(model, givenx, giveny, xtest):\n",
        "  kf = KFold(n_splits=10)\n",
        "  crossval_f1 = cross_val_score(model, givenx, giveny, scoring='f1_macro', cv = kf, verbose=False)\n",
        "  mean_score = crossval_f1.mean()\n",
        "  std_score = crossval_f1.std()\n",
        "  print('f1_macro', mean_score, '±', std_score)\n",
        "\n",
        "  crossval_accuracy = cross_val_score(model, givenx, giveny, scoring='accuracy', cv = kf, verbose=False)\n",
        "  mean_score = crossval_accuracy.mean()\n",
        "  std_score = crossval_accuracy.std()\n",
        "  print('accuracy', mean_score, '±', std_score)\n",
        "\n",
        "  crossval_recall = cross_val_score(model, givenx, giveny, scoring='recall_macro', cv = kf, verbose=False)\n",
        "  mean_score = crossval_recall.mean()\n",
        "  std_score = crossval_recall.std()\n",
        "  print('recall', mean_score, '±', std_score)\n",
        "\n",
        "  if giveny.nunique() == 2:\n",
        "    y_proba = model.predict_proba(xtest)\n",
        "    print('roc_auc_score', roc_auc_score(y_test, y_proba[:,1]))"
      ],
      "metadata": {
        "id": "_zZklzWYbUPW"
      },
      "execution_count": 8,
      "outputs": []
    },
    {
      "cell_type": "code",
      "source": [
        "def svm_class(xtrain, ytrain, xtest, ytest, xgiven, ygiven):\n",
        "  warnings.filterwarnings('ignore')\n",
        "  opt = BayesSearchCV(\n",
        "      SVC(),\n",
        "      {\n",
        "          'C': (1e-6, 1e+6, 'log-uniform'),\n",
        "          'gamma': (1e-6, 1e+1, 'log-uniform'),\n",
        "          'degree': (1, 8),  # integer valued parameter\n",
        "          'kernel': ['linear', 'poly', 'rbf'],  # categorical parameter\n",
        "      },\n",
        "      scoring='f1_macro',\n",
        "      n_iter=32,\n",
        "      cv=3\n",
        "  )\n",
        "\n",
        "  opt.fit(xtrain, ytrain)\n",
        "\n",
        "  print(\"val. score: %s\" % opt.best_score_)\n",
        "  print(\"test score: %s\" % opt.score(xtest, ytest), '\\n')\n",
        "\n",
        "\n",
        "  params = opt.best_params_\n",
        "  svm = SVC(gamma=params['gamma'], degree=params['degree'], C=params['C'], kernel=params['kernel'], probability=True)\n",
        "  svm.fit(xtrain, ytrain)\n",
        "  y_pred = svm.predict(xtest)\n",
        "  print(classification_report(ytest,y_pred))\n",
        "\n",
        "  calculate_scores(svm, xgiven, ygiven, xtest)"
      ],
      "metadata": {
        "id": "2PX-EHEqbUsk"
      },
      "execution_count": 17,
      "outputs": []
    },
    {
      "cell_type": "markdown",
      "source": [
        "**Non-binary**"
      ],
      "metadata": {
        "id": "Qy-nuHqSTgh4"
      }
    },
    {
      "cell_type": "markdown",
      "source": [
        "All features"
      ],
      "metadata": {
        "id": "QjSIlGngTjP9"
      }
    },
    {
      "cell_type": "code",
      "source": [
        "X = df.drop(['tds', 'tds_binary'], axis=1)\n",
        "y = df.tds\n",
        "\n",
        "oversample = SMOTE(k_neighbors=2)\n",
        "X, y = oversample.fit_resample(X, y)\n",
        "\n",
        "X_train, X_test, y_train, y_test = train_test_split(X, y, test_size=0.4, random_state=16)"
      ],
      "metadata": {
        "id": "F1PqBw32TfUg"
      },
      "execution_count": 18,
      "outputs": []
    },
    {
      "cell_type": "code",
      "source": [
        "svm_class(X_train, y_train, X_test, y_test, X, y)"
      ],
      "metadata": {
        "colab": {
          "base_uri": "https://localhost:8080/"
        },
        "id": "oBRobKYyTlg-",
        "outputId": "7b2931aa-6b59-48bf-8414-b86a2243204a"
      },
      "execution_count": 19,
      "outputs": [
        {
          "output_type": "stream",
          "name": "stdout",
          "text": [
            "val. score: 0.9374862298853083\n",
            "test score: 0.9531532722220648 \n",
            "\n",
            "              precision    recall  f1-score   support\n",
            "\n",
            "           0       1.00      0.85      0.92        55\n",
            "           1       0.94      1.00      0.97        60\n",
            "           2       0.94      1.00      0.97        65\n",
            "\n",
            "    accuracy                           0.96       180\n",
            "   macro avg       0.96      0.95      0.95       180\n",
            "weighted avg       0.96      0.96      0.95       180\n",
            "\n",
            "f1_macro 0.8173253663386959 ± 0.2626905016772233\n",
            "accuracy 0.9533333333333334 ± 0.062420319578613964\n",
            "recall 0.8473090380933519 ± 0.23379799298439763\n"
          ]
        }
      ]
    },
    {
      "cell_type": "markdown",
      "source": [
        "Only1D"
      ],
      "metadata": {
        "id": "ZNYi_m9sWQa4"
      }
    },
    {
      "cell_type": "code",
      "source": [
        "X = df1d.drop(['tds', 'tds_binary'], axis=1)\n",
        "y = df1d.tds\n",
        "\n",
        "oversample = SMOTE(k_neighbors=2)\n",
        "X, y = oversample.fit_resample(X, y)\n",
        "\n",
        "\n",
        "X_train, X_test, y_train, y_test = train_test_split(X, y, test_size=0.4, random_state=16)"
      ],
      "metadata": {
        "id": "7iE1cYIJWK6N"
      },
      "execution_count": 20,
      "outputs": []
    },
    {
      "cell_type": "code",
      "source": [
        "svm_class(X_train, y_train, X_test, y_test, X, y)"
      ],
      "metadata": {
        "colab": {
          "base_uri": "https://localhost:8080/"
        },
        "id": "qvUTDbbtWSaF",
        "outputId": "1dda3b62-ddef-4997-ad27-b62dc89079d3"
      },
      "execution_count": 21,
      "outputs": [
        {
          "output_type": "stream",
          "name": "stdout",
          "text": [
            "val. score: 0.9122342383544612\n",
            "test score: 0.940775166262112 \n",
            "\n",
            "              precision    recall  f1-score   support\n",
            "\n",
            "           0       1.00      0.82      0.90        55\n",
            "           1       0.90      1.00      0.94        60\n",
            "           2       0.96      1.00      0.98        65\n",
            "\n",
            "    accuracy                           0.94       180\n",
            "   macro avg       0.95      0.94      0.94       180\n",
            "weighted avg       0.95      0.94      0.94       180\n",
            "\n",
            "f1_macro 0.851390941434045 ± 0.20342482495173692\n",
            "accuracy 0.9533333333333334 ± 0.06320650068145729\n",
            "recall 0.8929134482075659 ± 0.1795308753298779\n"
          ]
        }
      ]
    },
    {
      "cell_type": "markdown",
      "source": [
        "**Binary**"
      ],
      "metadata": {
        "id": "4FqjOlQZYIFy"
      }
    },
    {
      "cell_type": "markdown",
      "source": [
        "All features"
      ],
      "metadata": {
        "id": "9-l-mYQ0Yaxv"
      }
    },
    {
      "cell_type": "code",
      "source": [
        "X = df.drop(['tds', 'tds_binary'], axis=1)\n",
        "y = df.tds_binary\n",
        "\n",
        "oversample = SMOTE(k_neighbors=2)\n",
        "X, y = oversample.fit_resample(X, y)\n",
        "\n",
        "X_train, X_test, y_train, y_test = train_test_split(X, y, test_size=0.4, random_state=16)"
      ],
      "metadata": {
        "id": "GL0k_4veYZc9"
      },
      "execution_count": 22,
      "outputs": []
    },
    {
      "cell_type": "code",
      "source": [
        "svm_class(X_train, y_train, X_test, y_test, X, y)"
      ],
      "metadata": {
        "colab": {
          "base_uri": "https://localhost:8080/"
        },
        "outputId": "a3730f7e-6304-4eba-cd78-4aeb17307f75",
        "id": "hzJMrcOfYZc-"
      },
      "execution_count": 23,
      "outputs": [
        {
          "output_type": "stream",
          "name": "stdout",
          "text": [
            "val. score: 0.9721276773908354\n",
            "test score: 0.9832167832167833 \n",
            "\n",
            "              precision    recall  f1-score   support\n",
            "\n",
            "           0       0.98      0.98      0.98        55\n",
            "           1       0.98      0.98      0.98        65\n",
            "\n",
            "    accuracy                           0.98       120\n",
            "   macro avg       0.98      0.98      0.98       120\n",
            "weighted avg       0.98      0.98      0.98       120\n",
            "\n",
            "f1_macro 0.982239881920082 ± 0.043314987266555006\n",
            "accuracy 0.99 ± 0.02134374745810949\n",
            "recall 0.992962962962963 ± 0.014098419489388342\n",
            "roc_auc_score 0.9997202797202798\n"
          ]
        }
      ]
    },
    {
      "cell_type": "markdown",
      "source": [
        "Only 1d-features"
      ],
      "metadata": {
        "id": "d24kRjIAYeWU"
      }
    },
    {
      "cell_type": "code",
      "source": [
        "X = df1d.drop(['tds', 'tds_binary'], axis=1)\n",
        "y = df1d.tds_binary\n",
        "\n",
        "oversample = SMOTE(k_neighbors=2)\n",
        "X, y = oversample.fit_resample(X, y)\n",
        "\n",
        "X_train, X_test, y_train, y_test = train_test_split(X, y, test_size=0.4, random_state=16)"
      ],
      "metadata": {
        "id": "Jcs94nXQYhip"
      },
      "execution_count": 24,
      "outputs": []
    },
    {
      "cell_type": "code",
      "source": [
        "svm_class(X_train, y_train, X_test, y_test, X, y)"
      ],
      "metadata": {
        "colab": {
          "base_uri": "https://localhost:8080/"
        },
        "outputId": "5c8ac166-b8fe-4be8-86d2-0987390e9791",
        "id": "2iipctG6Yhiq"
      },
      "execution_count": 25,
      "outputs": [
        {
          "output_type": "stream",
          "name": "stdout",
          "text": [
            "val. score: 0.8773589239721199\n",
            "test score: 0.9230714438350309 \n",
            "\n",
            "              precision    recall  f1-score   support\n",
            "\n",
            "           0       1.00      0.84      0.91        55\n",
            "           1       0.88      1.00      0.94        65\n",
            "\n",
            "    accuracy                           0.93       120\n",
            "   macro avg       0.94      0.92      0.92       120\n",
            "weighted avg       0.93      0.93      0.92       120\n",
            "\n",
            "f1_macro 0.8071049454264465 ± 0.2109432403789074\n",
            "accuracy 0.93 ± 0.0752034278178565\n",
            "recall 0.853778987699133 ± 0.2008191519763439\n",
            "roc_auc_score 0.9745454545454546\n"
          ]
        }
      ]
    },
    {
      "cell_type": "code",
      "source": [],
      "metadata": {
        "id": "UJ_tzDGEbgnF"
      },
      "execution_count": 25,
      "outputs": []
    }
  ]
}